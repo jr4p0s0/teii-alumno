{
 "cells": [
  {
   "cell_type": "markdown",
   "id": "39938e2f-7834-4881-8fe0-0091e412f110",
   "metadata": {},
   "source": [
    "# Alumno"
   ]
  },
  {
   "cell_type": "markdown",
   "id": "48332deb-2090-4822-8426-5df5bbaaf0ee",
   "metadata": {},
   "source": [
    "**Jaime Raposo Torre && Juan de Dios Hernández**"
   ]
  },
  {
   "cell_type": "markdown",
   "id": "herbal-cartoon",
   "metadata": {},
   "source": [
    "# Ejercicios de Pandas\n",
    "\n",
    "Antes de empezar, importemos los módulos que vamos a utilizar."
   ]
  },
  {
   "cell_type": "code",
   "execution_count": 1,
   "id": "gross-knitting",
   "metadata": {
    "tags": []
   },
   "outputs": [],
   "source": [
    "import numpy as np\n",
    "import pandas as pd"
   ]
  },
  {
   "cell_type": "markdown",
   "id": "local-sense",
   "metadata": {},
   "source": [
    "## Series"
   ]
  },
  {
   "cell_type": "markdown",
   "id": "sacred-cardiff",
   "metadata": {},
   "source": [
    "### Asigna el nombre \"alfabeto\" a la siguiente serie e imprímela.\n",
    "\n",
    "Pista: [pandas.Series.name](https://pandas.pydata.org/pandas-docs/stable/reference/api/pandas.Series.name.html)"
   ]
  },
  {
   "cell_type": "code",
   "execution_count": 2,
   "id": "foreign-washington",
   "metadata": {
    "tags": []
   },
   "outputs": [
    {
     "data": {
      "text/plain": [
       "0    a\n",
       "1    b\n",
       "2    c\n",
       "3    e\n",
       "4    d\n",
       "dtype: object"
      ]
     },
     "execution_count": 2,
     "metadata": {},
     "output_type": "execute_result"
    }
   ],
   "source": [
    "s = pd.Series(list('abcedfghijklmnopqrstuvwxyz'))\n",
    "s.head()"
   ]
  },
  {
   "cell_type": "code",
   "execution_count": 3,
   "id": "compressed-eight",
   "metadata": {
    "tags": []
   },
   "outputs": [
    {
     "data": {
      "text/plain": [
       "0    a\n",
       "1    b\n",
       "2    c\n",
       "3    e\n",
       "4    d\n",
       "Name: alfabeto, dtype: object"
      ]
     },
     "execution_count": 3,
     "metadata": {},
     "output_type": "execute_result"
    }
   ],
   "source": [
    "# Solución\n",
    "s.name = 'alfabeto'\n",
    "s.head()"
   ]
  },
  {
   "cell_type": "markdown",
   "id": "parliamentary-london",
   "metadata": {},
   "source": [
    "### Escribe una expresión que, dadas dos series, diga si todos los elementos de la primera son mayores que los correspondientes de la segunda.\n",
    "\n",
    "Pista: [pandas.Dataframe.all()](https://pandas.pydata.org/pandas-docs/version/1.5/reference/api/pandas.DataFrame.all.html)"
   ]
  },
  {
   "cell_type": "code",
   "execution_count": 4,
   "id": "diagnostic-toner",
   "metadata": {
    "tags": []
   },
   "outputs": [
    {
     "name": "stdout",
     "output_type": "stream",
     "text": [
      "0    6\n",
      "1    7\n",
      "2    9\n",
      "3    3\n",
      "4    6\n",
      "5    5\n",
      "6    8\n",
      "7    1\n",
      "8    8\n",
      "9    3\n",
      "dtype: int64\n",
      "0     7\n",
      "1     8\n",
      "2    10\n",
      "3     4\n",
      "4     7\n",
      "5     6\n",
      "6     9\n",
      "7     2\n",
      "8     9\n",
      "9     4\n",
      "dtype: int64\n"
     ]
    }
   ],
   "source": [
    "s1 = pd.Series(np.random.randint(1, 10, size=10))\n",
    "s2 = s1 + 1\n",
    "print(s1)\n",
    "print(s2)"
   ]
  },
  {
   "cell_type": "code",
   "execution_count": 5,
   "id": "92b7fa21",
   "metadata": {
    "tags": []
   },
   "outputs": [
    {
     "name": "stdout",
     "output_type": "stream",
     "text": [
      "False True\n"
     ]
    }
   ],
   "source": [
    "# Solución\n",
    "# Dadas dos series, di si todos los elementos de s1 son mayores que los de s2\n",
    "print((s1 > s2).all(),(s2 > s1).all())\n"
   ]
  },
  {
   "cell_type": "markdown",
   "id": "9cf4f6a1",
   "metadata": {},
   "source": [
    "### Escribe una expresión que, dadas dos series, diga si hay algún elemento de la primera es menor o igual que el correspondiente de la segunda.\n",
    "\n",
    "Pista: [pandas.Dataframe.any()](https://pandas.pydata.org/pandas-docs/version/1.5/reference/api/pandas.DataFrame.any.html)"
   ]
  },
  {
   "cell_type": "code",
   "execution_count": 6,
   "id": "65b40b3b",
   "metadata": {
    "tags": []
   },
   "outputs": [],
   "source": [
    "s1 = pd.Series(np.random.randint(1, 10, size=10))\n",
    "s2 = pd.Series(np.random.randint(1, 10, size=10))"
   ]
  },
  {
   "cell_type": "code",
   "execution_count": 7,
   "id": "better-cleaners",
   "metadata": {
    "tags": []
   },
   "outputs": [
    {
     "data": {
      "text/plain": [
       "True"
      ]
     },
     "execution_count": 7,
     "metadata": {},
     "output_type": "execute_result"
    }
   ],
   "source": [
    "# Solución\n",
    "(s1 <= s2).any()"
   ]
  },
  {
   "cell_type": "markdown",
   "id": "public-royal",
   "metadata": {},
   "source": [
    "### Extrae todos los elementos de la serie dada que se encuentran en las posiciones indicadas por una lista."
   ]
  },
  {
   "cell_type": "code",
   "execution_count": 8,
   "id": "dedicated-treasurer",
   "metadata": {
    "tags": []
   },
   "outputs": [],
   "source": [
    "serie = pd.Series(list('abcdefghijklmnopqrstuvwxyz'))\n",
    "posicion = [0, 4, 8, 14, 20]"
   ]
  },
  {
   "cell_type": "code",
   "execution_count": 9,
   "id": "incorporate-telephone",
   "metadata": {
    "tags": []
   },
   "outputs": [
    {
     "data": {
      "text/plain": [
       "0     a\n",
       "4     e\n",
       "8     i\n",
       "14    o\n",
       "20    u\n",
       "dtype: object"
      ]
     },
     "execution_count": 9,
     "metadata": {},
     "output_type": "execute_result"
    }
   ],
   "source": [
    "# Solución\n",
    "\n",
    "serie[posicion]\n"
   ]
  },
  {
   "cell_type": "markdown",
   "id": "photographic-renaissance",
   "metadata": {},
   "source": [
    "### Construye una serie que sea el resultado de concatenar a una serie dada los elementos de otra.\n",
    "\n",
    "Muestra el resultado de concatenar `s1` y `s2`, y responde a estas preguntas: ¿Qué ha sucedido con el índice? ¿Cuál es el tipo de datos de la serie resultante? ¿Qué sucede si indexamos la serie con el índice `0`?\n",
    "\n",
    "Pista: [pandas.concat](https://pandas.pydata.org/pandas-docs/version/1.5/reference/api/pandas.concat.html)"
   ]
  },
  {
   "cell_type": "code",
   "execution_count": 10,
   "id": "classical-access",
   "metadata": {
    "tags": []
   },
   "outputs": [],
   "source": [
    "s1 = pd.Series(range(5))\n",
    "s2 = pd.Series([0.2, 0.3, 0.4])"
   ]
  },
  {
   "cell_type": "code",
   "execution_count": 11,
   "id": "warming-document",
   "metadata": {
    "tags": []
   },
   "outputs": [
    {
     "name": "stdout",
     "output_type": "stream",
     "text": [
      "0    0\n",
      "1    1\n",
      "2    2\n",
      "3    3\n",
      "4    4\n",
      "dtype: int64\n",
      "0    0.2\n",
      "1    0.3\n",
      "2    0.4\n",
      "dtype: float64\n"
     ]
    },
    {
     "data": {
      "text/plain": [
       "0    0.0\n",
       "0    0.2\n",
       "dtype: float64"
      ]
     },
     "execution_count": 11,
     "metadata": {},
     "output_type": "execute_result"
    }
   ],
   "source": [
    "# Solución y respuestas a las preguntas\n",
    "print(s1)\n",
    "print(s2)\n",
    "pd.concat([s1, s2])\n",
    "\n",
    "# Observamos que los índices se repiten y que el tipo de datos resultante es float, ya que ha adaptado el tipo de datos a la serie que es de tipo float.\n",
    "# si indexamos por el indice 0:\n",
    "pd.concat([s1, s2])[0]\n",
    "# nos encontramos con que nos devuelve los dos valores que coinciden con el índice 0. "
   ]
  },
  {
   "cell_type": "markdown",
   "id": "surface-baghdad",
   "metadata": {},
   "source": [
    "### Ordena una serie, primero por el valor del índice y después por el valor de la serie, e imprímelas.\n",
    "\n",
    "Pistas: [pandas.Series.sort_index()](https://pandas.pydata.org/pandas-docs/stable/reference/api/pandas.Series.sort_index.html) y [pandas.Series.sort_values()](https://pandas.pydata.org/docs/reference/api/pandas.Series.sort_values.html)"
   ]
  },
  {
   "cell_type": "code",
   "execution_count": 12,
   "id": "4a170f64",
   "metadata": {},
   "outputs": [
    {
     "name": "stdout",
     "output_type": "stream",
     "text": [
      "3    1\n",
      "5    0\n",
      "1    4\n",
      "dtype: int64\n"
     ]
    }
   ],
   "source": [
    "serie = pd.Series({3: 1, 5: 0, 1: 4})\n",
    "print(serie)"
   ]
  },
  {
   "cell_type": "code",
   "execution_count": 13,
   "id": "governmental-express",
   "metadata": {
    "tags": []
   },
   "outputs": [
    {
     "name": "stdout",
     "output_type": "stream",
     "text": [
      "1    4\n",
      "3    1\n",
      "5    0\n",
      "dtype: int64\n",
      "5    0\n",
      "3    1\n",
      "1    4\n",
      "dtype: int64\n"
     ]
    }
   ],
   "source": [
    "# Solución\n",
    "print(serie.sort_index())\n",
    "print(serie.sort_values())"
   ]
  },
  {
   "cell_type": "markdown",
   "id": "introductory-lancaster",
   "metadata": {},
   "source": [
    "### Calcula la media del error cuadrático entre dos series.\n",
    "\n",
    "Nota: La fórmula del error cuadrático entre $x$ e $y$ es $(x - y)^2$."
   ]
  },
  {
   "cell_type": "code",
   "execution_count": 14,
   "id": "turned-meaning",
   "metadata": {
    "tags": []
   },
   "outputs": [
    {
     "name": "stdout",
     "output_type": "stream",
     "text": [
      "0    0\n",
      "1    1\n",
      "2    2\n",
      "3    3\n",
      "4    4\n",
      "5    5\n",
      "6    6\n",
      "7    7\n",
      "8    8\n",
      "9    9\n",
      "dtype: int64\n",
      "0    0.548814\n",
      "1    1.715189\n",
      "2    2.602763\n",
      "3    3.544883\n",
      "4    4.423655\n",
      "5    5.645894\n",
      "6    6.437587\n",
      "7    7.891773\n",
      "8    8.963663\n",
      "9    9.383442\n",
      "dtype: float64\n"
     ]
    }
   ],
   "source": [
    "np.random.seed(0)\n",
    "x = pd.Series(range(10))\n",
    "y = pd.Series(range(10)) + np.random.random(10)\n",
    "print(x)\n",
    "print(y)"
   ]
  },
  {
   "cell_type": "code",
   "execution_count": 15,
   "id": "vanilla-species",
   "metadata": {
    "tags": []
   },
   "outputs": [
    {
     "data": {
      "text/plain": [
       "0.41319910235287544"
      ]
     },
     "execution_count": 15,
     "metadata": {},
     "output_type": "execute_result"
    }
   ],
   "source": [
    "# Solución\n",
    "\n",
    "np.mean((x - y) ** 2)"
   ]
  },
  {
   "cell_type": "markdown",
   "id": "wrapped-trail",
   "metadata": {},
   "source": [
    "### Convierte la siguiente serie de fechas introducidas como cadenas a una serie de tipo `datetime` llamada `fechasdt`. \n",
    "\n",
    "Pista: [pandas.to_datetime()](https://pandas.pydata.org/pandas-docs/version/1.5/reference/api/pandas.to_datetime.html)"
   ]
  },
  {
   "cell_type": "code",
   "execution_count": 16,
   "id": "premium-emperor",
   "metadata": {
    "tags": []
   },
   "outputs": [],
   "source": [
    "fechas = pd.Series(['02 Jan 2010T00:00:01',\n",
    "                    '02-02-2011',\n",
    "                    '20120303',\n",
    "                    '2013/04/04',\n",
    "                    '2014-05-05',\n",
    "                    '2015-06-06T12:20'])"
   ]
  },
  {
   "cell_type": "code",
   "execution_count": 17,
   "id": "sacred-quick",
   "metadata": {
    "tags": []
   },
   "outputs": [
    {
     "data": {
      "text/plain": [
       "0   2010-01-02 00:00:01\n",
       "1   2011-02-02 00:00:00\n",
       "2   2012-03-03 00:00:00\n",
       "3   2013-04-04 00:00:00\n",
       "4   2014-05-05 00:00:00\n",
       "5   2015-06-06 12:20:00\n",
       "dtype: datetime64[ns]"
      ]
     },
     "execution_count": 17,
     "metadata": {},
     "output_type": "execute_result"
    }
   ],
   "source": [
    "# Solución\n",
    "fechasdt = pd.to_datetime(fechas, format='mixed')\n",
    "fechasdt"
   ]
  },
  {
   "cell_type": "markdown",
   "id": "polar-carpet",
   "metadata": {},
   "source": [
    "### Crea tres series a partir de la serie `fechasdt` anterior llamadas `days`, `months` y `years`, donde cada una contenga el día, el mes y el año de cada fecha, respectivamente.\n",
    "\n",
    "Pista: Una serie del tipo `datetime` tiene un atributo `.dt` con métodos para acceder al día, mes y año, por ejemplo, [pandas.Series.dt.day()](https://pandas.pydata.org/pandas-docs/version/1.5/reference/api/pandas.Series.dt.day.html)."
   ]
  },
  {
   "cell_type": "code",
   "execution_count": 18,
   "id": "automatic-democrat",
   "metadata": {
    "tags": []
   },
   "outputs": [
    {
     "name": "stdout",
     "output_type": "stream",
     "text": [
      "0    2010\n",
      "1    2011\n",
      "2    2012\n",
      "3    2013\n",
      "4    2014\n",
      "5    2015\n",
      "dtype: int32\n",
      "0    1\n",
      "1    2\n",
      "2    3\n",
      "3    4\n",
      "4    5\n",
      "5    6\n",
      "dtype: int32\n",
      "0    2\n",
      "1    2\n",
      "2    3\n",
      "3    4\n",
      "4    5\n",
      "5    6\n",
      "dtype: int32\n"
     ]
    }
   ],
   "source": [
    "# Solución\n",
    "fechasdtYear = fechasdt.dt.year\n",
    "fechasdtMonth = fechasdt.dt.month\n",
    "fechasdtDay = fechasdt.dt.day\n",
    "\n",
    "print(fechasdtYear)\n",
    "print(fechasdtMonth)\n",
    "print(fechasdtDay)"
   ]
  },
  {
   "cell_type": "markdown",
   "id": "intelligent-sponsorship",
   "metadata": {},
   "source": [
    "### Crea una serie con valores aleatorios enteros entre 1 y 10, pero cuyo índice tenga 12 objetos del tipo `datetime` con el primer día de cada mes del año 2024\n",
    "\n",
    "El índice deben empezar por el **01-01-2024** y terminar en el **01-12-2024**.\n",
    "\n",
    "Pistas: [numpy.random.randint](https://numpy.org/doc/stable/reference/random/generated/numpy.random.randint.html()) y [pandas.date_range()](https://pandas.pydata.org/pandas-docs/version/1.5/reference/api/pandas.date_range.html)"
   ]
  },
  {
   "cell_type": "code",
   "execution_count": 19,
   "id": "neural-trauma",
   "metadata": {
    "tags": []
   },
   "outputs": [
    {
     "data": {
      "text/plain": [
       "2024-01-01    7\n",
       "2024-02-01    8\n",
       "2024-03-01    8\n",
       "2024-04-01    9\n",
       "2024-05-01    2\n",
       "2024-06-01    6\n",
       "2024-07-01    9\n",
       "2024-08-01    5\n",
       "2024-09-01    4\n",
       "2024-10-01    1\n",
       "2024-11-01    4\n",
       "2024-12-01    6\n",
       "Freq: MS, dtype: int64"
      ]
     },
     "execution_count": 19,
     "metadata": {},
     "output_type": "execute_result"
    }
   ],
   "source": [
    "# Solución\n",
    "spd = pd.Series(np.random.randint(1, 10, 12), index=pd.date_range(start='01-01-2024', periods=12, freq='MS'))\n",
    "spd"
   ]
  },
  {
   "cell_type": "markdown",
   "id": "bibliographic-think",
   "metadata": {},
   "source": [
    "## DataFrames"
   ]
  },
  {
   "cell_type": "markdown",
   "id": "elementary-assistant",
   "metadata": {},
   "source": [
    "### Dadas las siguientes series que representan frutas, precio y peso comprado de cada una de ellas, construye un `Dataframe` y obtén tanto el precio medio como el peso medio de cada tipo de fruta.\n",
    "\n",
    "Pista: [pandas.Series.groupby()](https://pandas.pydata.org/pandas-docs/version/1.5/reference/api/pandas.Series.groupby.html)"
   ]
  },
  {
   "cell_type": "code",
   "execution_count": 20,
   "id": "baking-guatemala",
   "metadata": {},
   "outputs": [
    {
     "name": "stdout",
     "output_type": "stream",
     "text": [
      "['manzana', 'banana', 'manzana', 'banana', 'banana', 'zanahoria', 'manzana', 'zanahoria', 'manzana', 'manzana']\n",
      "[0.8179688837403396, 1.4329953519640495, 2.4365061863264796, 1.439931517125172, 1.1783543883024892, 2.5082362906121327, 1.0121884812518052, 1.9445156161535917, 1.1047246195216438, 2.871465476859139]\n",
      "[4, 4, 1, 3, 4, 1, 2, 4, 2, 4]\n"
     ]
    }
   ],
   "source": [
    "np.random.seed(0)\n",
    "frutas = pd.Series(np.random.choice(['manzana', 'banana', 'zanahoria'], 10))\n",
    "precios = pd.Series(np.random.sample(10) * 3)\n",
    "pesos = pd.Series(np.random.randint(1, 5, 10))\n",
    "\n",
    "print(frutas.tolist())\n",
    "print(precios.tolist())\n",
    "print(pesos.tolist())"
   ]
  },
  {
   "cell_type": "code",
   "execution_count": 21,
   "id": "charitable-pixel",
   "metadata": {
    "tags": []
   },
   "outputs": [
    {
     "data": {
      "text/html": [
       "<div>\n",
       "<style scoped>\n",
       "    .dataframe tbody tr th:only-of-type {\n",
       "        vertical-align: middle;\n",
       "    }\n",
       "\n",
       "    .dataframe tbody tr th {\n",
       "        vertical-align: top;\n",
       "    }\n",
       "\n",
       "    .dataframe thead th {\n",
       "        text-align: right;\n",
       "    }\n",
       "</style>\n",
       "<table border=\"1\" class=\"dataframe\">\n",
       "  <thead>\n",
       "    <tr style=\"text-align: right;\">\n",
       "      <th></th>\n",
       "      <th>precios</th>\n",
       "      <th>pesos</th>\n",
       "    </tr>\n",
       "    <tr>\n",
       "      <th>frutas</th>\n",
       "      <th></th>\n",
       "      <th></th>\n",
       "    </tr>\n",
       "  </thead>\n",
       "  <tbody>\n",
       "    <tr>\n",
       "      <th>banana</th>\n",
       "      <td>1.350427</td>\n",
       "      <td>3.666667</td>\n",
       "    </tr>\n",
       "    <tr>\n",
       "      <th>manzana</th>\n",
       "      <td>1.648571</td>\n",
       "      <td>2.600000</td>\n",
       "    </tr>\n",
       "    <tr>\n",
       "      <th>zanahoria</th>\n",
       "      <td>2.226376</td>\n",
       "      <td>2.500000</td>\n",
       "    </tr>\n",
       "  </tbody>\n",
       "</table>\n",
       "</div>"
      ],
      "text/plain": [
       "            precios     pesos\n",
       "frutas                       \n",
       "banana     1.350427  3.666667\n",
       "manzana    1.648571  2.600000\n",
       "zanahoria  2.226376  2.500000"
      ]
     },
     "execution_count": 21,
     "metadata": {},
     "output_type": "execute_result"
    }
   ],
   "source": [
    "# Solución\n",
    "prevDTF = pd.DataFrame({'frutas': frutas, 'precios': precios, 'pesos': pesos})\n",
    "prevDTF.groupby('frutas').mean()\n"
   ]
  },
  {
   "cell_type": "markdown",
   "id": "willing-mistress",
   "metadata": {
    "tags": []
   },
   "source": [
    "### Crea un `DataFrame` a partir del archivo `planets.csv` seleccionando solamente las columnas `method`,  `year` y `distance`, y calcula el número elementos que tiene.\n",
    "\n",
    "Pista: [pandas.read_csv](https://pandas.pydata.org/pandas-docs/stable/reference/api/pandas.read_csv.html)"
   ]
  },
  {
   "cell_type": "code",
   "execution_count": 22,
   "id": "brutal-elder",
   "metadata": {
    "tags": []
   },
   "outputs": [],
   "source": [
    "# Solución\n",
    "dataFrame = pd.read_csv(\"data/planets.csv\")\n",
    "# Seleccionar las columnas method, year y number\n",
    "dataFrame = dataFrame[['method', 'year', 'number']]"
   ]
  },
  {
   "cell_type": "markdown",
   "id": "8d603eda",
   "metadata": {},
   "source": [
    "### Calcula cuantos planetas se han descubierto usando cada método de detección a partir del *dataset* de planetas anterior."
   ]
  },
  {
   "cell_type": "code",
   "execution_count": 23,
   "id": "e91c6ae2",
   "metadata": {},
   "outputs": [
    {
     "data": {
      "text/plain": [
       "method\n",
       "Astrometry                         2\n",
       "Eclipse Timing Variations          9\n",
       "Imaging                           38\n",
       "Microlensing                      23\n",
       "Orbital Brightness Modulation      3\n",
       "Pulsar Timing                      5\n",
       "Pulsation Timing Variations        1\n",
       "Radial Velocity                  553\n",
       "Transit                          397\n",
       "Transit Timing Variations          4\n",
       "Name: number, dtype: int64"
      ]
     },
     "execution_count": 23,
     "metadata": {},
     "output_type": "execute_result"
    }
   ],
   "source": [
    "# Solución\n",
    "\n",
    "dataFrame.groupby('method').count()['number']\n"
   ]
  },
  {
   "cell_type": "markdown",
   "id": "dbb0dadf",
   "metadata": {},
   "source": [
    "### Determina en qué año se descubrieron más planetas a partir del *dataset* de planetas anterior."
   ]
  },
  {
   "cell_type": "code",
   "execution_count": 24,
   "id": "369751dd",
   "metadata": {},
   "outputs": [
    {
     "data": {
      "text/plain": [
       "2011"
      ]
     },
     "execution_count": 24,
     "metadata": {},
     "output_type": "execute_result"
    }
   ],
   "source": [
    "# Solución\n",
    " \n",
    "# determina en que año se descubrieron mas planetas\n",
    "dataFrame.groupby('year').count()['number'].idxmax()"
   ]
  },
  {
   "cell_type": "markdown",
   "id": "adverse-surprise",
   "metadata": {},
   "source": [
    "### Create un `DataFrame` a partir del *dataset* de coches [Cars93_miss.csv](https://raw.githubusercontent.com/selva86/datasets/master/Cars93_miss.csv), y encuentra el fabricante, modelo, tipo y precio del coche más caro (solamente deben devolverse esas columnas).\n",
    "\n",
    "En primer lugar, crea el dataset a partir de la URL anterior:"
   ]
  },
  {
   "cell_type": "code",
   "execution_count": 25,
   "id": "adverse-surprise",
   "metadata": {},
   "outputs": [
    {
     "data": {
      "text/html": [
       "<div>\n",
       "<style scoped>\n",
       "    .dataframe tbody tr th:only-of-type {\n",
       "        vertical-align: middle;\n",
       "    }\n",
       "\n",
       "    .dataframe tbody tr th {\n",
       "        vertical-align: top;\n",
       "    }\n",
       "\n",
       "    .dataframe thead th {\n",
       "        text-align: right;\n",
       "    }\n",
       "</style>\n",
       "<table border=\"1\" class=\"dataframe\">\n",
       "  <thead>\n",
       "    <tr style=\"text-align: right;\">\n",
       "      <th></th>\n",
       "      <th>Manufacturer</th>\n",
       "      <th>Model</th>\n",
       "      <th>Type</th>\n",
       "      <th>Max.Price</th>\n",
       "    </tr>\n",
       "  </thead>\n",
       "  <tbody>\n",
       "    <tr>\n",
       "      <th>0</th>\n",
       "      <td>Acura</td>\n",
       "      <td>Integra</td>\n",
       "      <td>Small</td>\n",
       "      <td>18.8</td>\n",
       "    </tr>\n",
       "    <tr>\n",
       "      <th>1</th>\n",
       "      <td>NaN</td>\n",
       "      <td>Legend</td>\n",
       "      <td>Midsize</td>\n",
       "      <td>38.7</td>\n",
       "    </tr>\n",
       "    <tr>\n",
       "      <th>2</th>\n",
       "      <td>Audi</td>\n",
       "      <td>90</td>\n",
       "      <td>Compact</td>\n",
       "      <td>32.3</td>\n",
       "    </tr>\n",
       "    <tr>\n",
       "      <th>3</th>\n",
       "      <td>Audi</td>\n",
       "      <td>100</td>\n",
       "      <td>Midsize</td>\n",
       "      <td>44.6</td>\n",
       "    </tr>\n",
       "    <tr>\n",
       "      <th>4</th>\n",
       "      <td>BMW</td>\n",
       "      <td>535i</td>\n",
       "      <td>Midsize</td>\n",
       "      <td>NaN</td>\n",
       "    </tr>\n",
       "    <tr>\n",
       "      <th>...</th>\n",
       "      <td>...</td>\n",
       "      <td>...</td>\n",
       "      <td>...</td>\n",
       "      <td>...</td>\n",
       "    </tr>\n",
       "    <tr>\n",
       "      <th>88</th>\n",
       "      <td>Volkswagen</td>\n",
       "      <td>Eurovan</td>\n",
       "      <td>Van</td>\n",
       "      <td>22.7</td>\n",
       "    </tr>\n",
       "    <tr>\n",
       "      <th>89</th>\n",
       "      <td>Volkswagen</td>\n",
       "      <td>Passat</td>\n",
       "      <td>Compact</td>\n",
       "      <td>22.4</td>\n",
       "    </tr>\n",
       "    <tr>\n",
       "      <th>90</th>\n",
       "      <td>Volkswagen</td>\n",
       "      <td>Corrado</td>\n",
       "      <td>Sporty</td>\n",
       "      <td>23.7</td>\n",
       "    </tr>\n",
       "    <tr>\n",
       "      <th>91</th>\n",
       "      <td>Volvo</td>\n",
       "      <td>240</td>\n",
       "      <td>Compact</td>\n",
       "      <td>23.5</td>\n",
       "    </tr>\n",
       "    <tr>\n",
       "      <th>92</th>\n",
       "      <td>NaN</td>\n",
       "      <td>850</td>\n",
       "      <td>Midsize</td>\n",
       "      <td>28.5</td>\n",
       "    </tr>\n",
       "  </tbody>\n",
       "</table>\n",
       "<p>93 rows × 4 columns</p>\n",
       "</div>"
      ],
      "text/plain": [
       "   Manufacturer    Model     Type  Max.Price\n",
       "0         Acura  Integra    Small       18.8\n",
       "1           NaN   Legend  Midsize       38.7\n",
       "2          Audi       90  Compact       32.3\n",
       "3          Audi      100  Midsize       44.6\n",
       "4           BMW     535i  Midsize        NaN\n",
       "..          ...      ...      ...        ...\n",
       "88   Volkswagen  Eurovan      Van       22.7\n",
       "89   Volkswagen   Passat  Compact       22.4\n",
       "90   Volkswagen  Corrado   Sporty       23.7\n",
       "91        Volvo      240  Compact       23.5\n",
       "92          NaN      850  Midsize       28.5\n",
       "\n",
       "[93 rows x 4 columns]"
      ]
     },
     "execution_count": 25,
     "metadata": {},
     "output_type": "execute_result"
    }
   ],
   "source": [
    "# Solución\n",
    "dfC = pd.read_csv('https://raw.githubusercontent.com/selva86/datasets/master/Cars93_miss.csv')\n",
    "dfC = dfC[['Manufacturer', 'Model', 'Type', 'Max.Price']]\n",
    "dfC"
   ]
  },
  {
   "cell_type": "markdown",
   "id": "ce3212f3",
   "metadata": {},
   "source": [
    "Luego, muestra el precio del coche más caro, para lo cual puedes usar [pandas.DataFrame.max()](https://pandas.pydata.org/pandas-docs/version/1.5/reference/api/pandas.DataFrame.max.html):"
   ]
  },
  {
   "cell_type": "code",
   "execution_count": 26,
   "id": "ce3212f3",
   "metadata": {},
   "outputs": [
    {
     "data": {
      "text/plain": [
       "Manufacturer    Mercedes-Benz\n",
       "Model                    300E\n",
       "Type                  Midsize\n",
       "Max.Price                80.0\n",
       "Name: 58, dtype: object"
      ]
     },
     "execution_count": 26,
     "metadata": {},
     "output_type": "execute_result"
    }
   ],
   "source": [
    "# Solución\n",
    "dfC.loc[dfC['Max.Price'].idxmax()]"
   ]
  },
  {
   "cell_type": "markdown",
   "id": "b01132a8",
   "metadata": {},
   "source": [
    "A continuación, genera una serie de valores booleanos con el resultado de la comparación con dicho precio:"
   ]
  },
  {
   "cell_type": "code",
   "execution_count": 27,
   "id": "b01132a8",
   "metadata": {},
   "outputs": [
    {
     "data": {
      "text/plain": [
       "0     False\n",
       "1     False\n",
       "2     False\n",
       "3     False\n",
       "4     False\n",
       "      ...  \n",
       "88    False\n",
       "89    False\n",
       "90    False\n",
       "91    False\n",
       "92    False\n",
       "Name: Max.Price, Length: 93, dtype: bool"
      ]
     },
     "execution_count": 27,
     "metadata": {},
     "output_type": "execute_result"
    }
   ],
   "source": [
    "# Solución\n",
    "# genera una serie de booleanos con el resultado de la comparacion de dicho precio\n",
    "dfC['Max.Price'] == dfC['Max.Price'].max()"
   ]
  },
  {
   "cell_type": "markdown",
   "id": "b84c063f",
   "metadata": {},
   "source": [
    "A partir de la expresión anterior, obtén la fila del dataframe que cumple la condición de precio máximo con [pandas.DataFrame.loc()](https://pandas.pydata.org/pandas-docs/version/1.5/reference/api/pandas.DataFrame.loc.html): "
   ]
  },
  {
   "cell_type": "code",
   "execution_count": 28,
   "id": "b84c063f",
   "metadata": {},
   "outputs": [
    {
     "data": {
      "text/html": [
       "<div>\n",
       "<style scoped>\n",
       "    .dataframe tbody tr th:only-of-type {\n",
       "        vertical-align: middle;\n",
       "    }\n",
       "\n",
       "    .dataframe tbody tr th {\n",
       "        vertical-align: top;\n",
       "    }\n",
       "\n",
       "    .dataframe thead th {\n",
       "        text-align: right;\n",
       "    }\n",
       "</style>\n",
       "<table border=\"1\" class=\"dataframe\">\n",
       "  <thead>\n",
       "    <tr style=\"text-align: right;\">\n",
       "      <th></th>\n",
       "      <th>Manufacturer</th>\n",
       "      <th>Model</th>\n",
       "      <th>Type</th>\n",
       "      <th>Max.Price</th>\n",
       "    </tr>\n",
       "  </thead>\n",
       "  <tbody>\n",
       "    <tr>\n",
       "      <th>58</th>\n",
       "      <td>Mercedes-Benz</td>\n",
       "      <td>300E</td>\n",
       "      <td>Midsize</td>\n",
       "      <td>80.0</td>\n",
       "    </tr>\n",
       "  </tbody>\n",
       "</table>\n",
       "</div>"
      ],
      "text/plain": [
       "     Manufacturer Model     Type  Max.Price\n",
       "58  Mercedes-Benz  300E  Midsize       80.0"
      ]
     },
     "execution_count": 28,
     "metadata": {},
     "output_type": "execute_result"
    }
   ],
   "source": [
    "# Solución\n",
    "dfC.loc[dfC['Max.Price'] == dfC['Max.Price'].max()]"
   ]
  },
  {
   "cell_type": "markdown",
   "id": "b62675e5",
   "metadata": {},
   "source": [
    "Por último, selecciona únicamente las columnas del dataframe indicadas (fabricante, modelo, tipo, precio):"
   ]
  },
  {
   "cell_type": "code",
   "execution_count": 29,
   "id": "b62675e5",
   "metadata": {},
   "outputs": [],
   "source": [
    "# Solución\n",
    "\n",
    "# Ya estan seleccionadas, anteriormente ya se pedia"
   ]
  },
  {
   "cell_type": "markdown",
   "id": "younger-ivory",
   "metadata": {},
   "source": [
    "### Calcula una nueva columna `Norm.price` en el *dataset* de coches anterior con el precio normalizado con respecto a su valor máximo y mínimo ().\n",
    "\n",
    "Nota: Esta normalización se realiza con la siguiente operación: $(precio - precioMinimo)/(precioMaximo - precioMinimo)$"
   ]
  },
  {
   "cell_type": "code",
   "execution_count": 30,
   "id": "younger-ivory",
   "metadata": {},
   "outputs": [
    {
     "data": {
      "text/html": [
       "<div>\n",
       "<style scoped>\n",
       "    .dataframe tbody tr th:only-of-type {\n",
       "        vertical-align: middle;\n",
       "    }\n",
       "\n",
       "    .dataframe tbody tr th {\n",
       "        vertical-align: top;\n",
       "    }\n",
       "\n",
       "    .dataframe thead th {\n",
       "        text-align: right;\n",
       "    }\n",
       "</style>\n",
       "<table border=\"1\" class=\"dataframe\">\n",
       "  <thead>\n",
       "    <tr style=\"text-align: right;\">\n",
       "      <th></th>\n",
       "      <th>Manufacturer</th>\n",
       "      <th>Model</th>\n",
       "      <th>Type</th>\n",
       "      <th>Max.Price</th>\n",
       "      <th>Norm.price</th>\n",
       "    </tr>\n",
       "  </thead>\n",
       "  <tbody>\n",
       "    <tr>\n",
       "      <th>0</th>\n",
       "      <td>Acura</td>\n",
       "      <td>Integra</td>\n",
       "      <td>Small</td>\n",
       "      <td>18.8</td>\n",
       "      <td>0.151179</td>\n",
       "    </tr>\n",
       "    <tr>\n",
       "      <th>1</th>\n",
       "      <td>NaN</td>\n",
       "      <td>Legend</td>\n",
       "      <td>Midsize</td>\n",
       "      <td>38.7</td>\n",
       "      <td>0.427184</td>\n",
       "    </tr>\n",
       "    <tr>\n",
       "      <th>2</th>\n",
       "      <td>Audi</td>\n",
       "      <td>90</td>\n",
       "      <td>Compact</td>\n",
       "      <td>32.3</td>\n",
       "      <td>0.338419</td>\n",
       "    </tr>\n",
       "    <tr>\n",
       "      <th>3</th>\n",
       "      <td>Audi</td>\n",
       "      <td>100</td>\n",
       "      <td>Midsize</td>\n",
       "      <td>44.6</td>\n",
       "      <td>0.509015</td>\n",
       "    </tr>\n",
       "    <tr>\n",
       "      <th>4</th>\n",
       "      <td>BMW</td>\n",
       "      <td>535i</td>\n",
       "      <td>Midsize</td>\n",
       "      <td>NaN</td>\n",
       "      <td>NaN</td>\n",
       "    </tr>\n",
       "  </tbody>\n",
       "</table>\n",
       "</div>"
      ],
      "text/plain": [
       "  Manufacturer    Model     Type  Max.Price  Norm.price\n",
       "0        Acura  Integra    Small       18.8    0.151179\n",
       "1          NaN   Legend  Midsize       38.7    0.427184\n",
       "2         Audi       90  Compact       32.3    0.338419\n",
       "3         Audi      100  Midsize       44.6    0.509015\n",
       "4          BMW     535i  Midsize        NaN         NaN"
      ]
     },
     "execution_count": 30,
     "metadata": {},
     "output_type": "execute_result"
    }
   ],
   "source": [
    "# Solución\n",
    "dfC['Norm.price'] = [(x - dfC['Max.Price'].min()) / (dfC['Max.Price'].max() - dfC['Max.Price'].min()) for x in dfC['Max.Price']]\n",
    "dfC.head()"
   ]
  },
  {
   "cell_type": "markdown",
   "id": "considerable-mobility",
   "metadata": {},
   "source": [
    "### Encuentra los tres vehículos con mayor precio (`Price`), ignorando los que no tengan precio asignado (NaN), en el *dataset* de coches anterior.\n",
    "\n",
    "Pista: Averigua para qué sirve el parámetro `subset` de [pandas.DataFrame.dropna()](https://pandas.pydata.org/pandas-docs/version/1.5/reference/api/pandas.DataFrame.dropna.html)."
   ]
  },
  {
   "cell_type": "code",
   "execution_count": 31,
   "id": "considerable-mobility",
   "metadata": {},
   "outputs": [
    {
     "data": {
      "text/html": [
       "<div>\n",
       "<style scoped>\n",
       "    .dataframe tbody tr th:only-of-type {\n",
       "        vertical-align: middle;\n",
       "    }\n",
       "\n",
       "    .dataframe tbody tr th {\n",
       "        vertical-align: top;\n",
       "    }\n",
       "\n",
       "    .dataframe thead th {\n",
       "        text-align: right;\n",
       "    }\n",
       "</style>\n",
       "<table border=\"1\" class=\"dataframe\">\n",
       "  <thead>\n",
       "    <tr style=\"text-align: right;\">\n",
       "      <th></th>\n",
       "      <th>Manufacturer</th>\n",
       "      <th>Model</th>\n",
       "      <th>Type</th>\n",
       "      <th>Max.Price</th>\n",
       "      <th>Norm.price</th>\n",
       "    </tr>\n",
       "  </thead>\n",
       "  <tbody>\n",
       "    <tr>\n",
       "      <th>58</th>\n",
       "      <td>Mercedes-Benz</td>\n",
       "      <td>300E</td>\n",
       "      <td>Midsize</td>\n",
       "      <td>80.0</td>\n",
       "      <td>1.000000</td>\n",
       "    </tr>\n",
       "    <tr>\n",
       "      <th>3</th>\n",
       "      <td>Audi</td>\n",
       "      <td>100</td>\n",
       "      <td>Midsize</td>\n",
       "      <td>44.6</td>\n",
       "      <td>0.509015</td>\n",
       "    </tr>\n",
       "    <tr>\n",
       "      <th>10</th>\n",
       "      <td>Cadillac</td>\n",
       "      <td>Seville</td>\n",
       "      <td>Midsize</td>\n",
       "      <td>42.7</td>\n",
       "      <td>0.482663</td>\n",
       "    </tr>\n",
       "  </tbody>\n",
       "</table>\n",
       "</div>"
      ],
      "text/plain": [
       "     Manufacturer    Model     Type  Max.Price  Norm.price\n",
       "58  Mercedes-Benz     300E  Midsize       80.0    1.000000\n",
       "3            Audi      100  Midsize       44.6    0.509015\n",
       "10       Cadillac  Seville  Midsize       42.7    0.482663"
      ]
     },
     "execution_count": 31,
     "metadata": {},
     "output_type": "execute_result"
    }
   ],
   "source": [
    "# Solución\n",
    "dfC.dropna(subset=['Max.Price']).sort_values('Max.Price', ascending=False)[:3]"
   ]
  },
  {
   "cell_type": "markdown",
   "id": "0d0ed5c0-046a-4b1c-b6ef-e3b08f41d8fe",
   "metadata": {
    "tags": []
   },
   "source": [
    "### Crea un `DataFrame` a partir del archivo `california_cities.csv` y muestra la población total de la ciudad con más habitantes (se deben mostrar las columnas `city` y `population_total`)."
   ]
  },
  {
   "cell_type": "code",
   "execution_count": 32,
   "id": "0d0ed5c0-046a-4b1c-b6ef-e3b08f41d8fe",
   "metadata": {
    "tags": []
   },
   "outputs": [
    {
     "data": {
      "text/html": [
       "<div>\n",
       "<style scoped>\n",
       "    .dataframe tbody tr th:only-of-type {\n",
       "        vertical-align: middle;\n",
       "    }\n",
       "\n",
       "    .dataframe tbody tr th {\n",
       "        vertical-align: top;\n",
       "    }\n",
       "\n",
       "    .dataframe thead th {\n",
       "        text-align: right;\n",
       "    }\n",
       "</style>\n",
       "<table border=\"1\" class=\"dataframe\">\n",
       "  <thead>\n",
       "    <tr style=\"text-align: right;\">\n",
       "      <th></th>\n",
       "      <th>city</th>\n",
       "      <th>population_total</th>\n",
       "    </tr>\n",
       "  </thead>\n",
       "  <tbody>\n",
       "    <tr>\n",
       "      <th>0</th>\n",
       "      <td>Adelanto</td>\n",
       "      <td>31765</td>\n",
       "    </tr>\n",
       "    <tr>\n",
       "      <th>1</th>\n",
       "      <td>AgouraHills</td>\n",
       "      <td>20330</td>\n",
       "    </tr>\n",
       "    <tr>\n",
       "      <th>2</th>\n",
       "      <td>Alameda</td>\n",
       "      <td>75467</td>\n",
       "    </tr>\n",
       "    <tr>\n",
       "      <th>3</th>\n",
       "      <td>Albany</td>\n",
       "      <td>18969</td>\n",
       "    </tr>\n",
       "    <tr>\n",
       "      <th>4</th>\n",
       "      <td>Alhambra</td>\n",
       "      <td>83089</td>\n",
       "    </tr>\n",
       "    <tr>\n",
       "      <th>...</th>\n",
       "      <td>...</td>\n",
       "      <td>...</td>\n",
       "    </tr>\n",
       "    <tr>\n",
       "      <th>477</th>\n",
       "      <td>Yountville</td>\n",
       "      <td>2933</td>\n",
       "    </tr>\n",
       "    <tr>\n",
       "      <th>478</th>\n",
       "      <td>Yreka</td>\n",
       "      <td>7765</td>\n",
       "    </tr>\n",
       "    <tr>\n",
       "      <th>479</th>\n",
       "      <td>YubaCity</td>\n",
       "      <td>64925</td>\n",
       "    </tr>\n",
       "    <tr>\n",
       "      <th>480</th>\n",
       "      <td>Yucaipa</td>\n",
       "      <td>51367</td>\n",
       "    </tr>\n",
       "    <tr>\n",
       "      <th>481</th>\n",
       "      <td>YuccaValley</td>\n",
       "      <td>20700</td>\n",
       "    </tr>\n",
       "  </tbody>\n",
       "</table>\n",
       "<p>482 rows × 2 columns</p>\n",
       "</div>"
      ],
      "text/plain": [
       "            city  population_total\n",
       "0       Adelanto             31765\n",
       "1    AgouraHills             20330\n",
       "2        Alameda             75467\n",
       "3         Albany             18969\n",
       "4       Alhambra             83089\n",
       "..           ...               ...\n",
       "477   Yountville              2933\n",
       "478        Yreka              7765\n",
       "479     YubaCity             64925\n",
       "480      Yucaipa             51367\n",
       "481  YuccaValley             20700\n",
       "\n",
       "[482 rows x 2 columns]"
      ]
     },
     "execution_count": 32,
     "metadata": {},
     "output_type": "execute_result"
    }
   ],
   "source": [
    "# Solución\n",
    "dfCC = pd.read_csv('data/california_cities.csv')\n",
    "dfCC[['city', 'population_total']]"
   ]
  },
  {
   "cell_type": "markdown",
   "id": "cb906059",
   "metadata": {},
   "source": [
    "### Determina cuál es la población de la ciudad más septentional de California a partir del *dataset* de ciudades anterior (se deben mostrar las columnas `city`, `latd` y `population_total`)."
   ]
  },
  {
   "cell_type": "code",
   "execution_count": 33,
   "id": "cb906059",
   "metadata": {},
   "outputs": [
    {
     "data": {
      "text/plain": [
       "city                Dorris\n",
       "latd                41.965\n",
       "population_total       939\n",
       "Name: 114, dtype: object"
      ]
     },
     "execution_count": 33,
     "metadata": {},
     "output_type": "execute_result"
    }
   ],
   "source": [
    "# Solución\n",
    "\n",
    "dfCC.loc[dfCC['latd'].idxmax()][['city', 'latd', 'population_total']]"
   ]
  },
  {
   "cell_type": "markdown",
   "id": "ff65e6f2",
   "metadata": {},
   "source": [
    "### Calcula la densidad de población de la ciudad de California que se encuentra a mayor altitud a partir del *dataset* de ciudades anterior (se deben mostrar las columnas `city`, `elevation_m` y `area_total_km2`, así cómo la densidad de población total en habitantes por kilómetro cuadrado)"
   ]
  },
  {
   "cell_type": "code",
   "execution_count": 44,
   "id": "ff65e6f2",
   "metadata": {},
   "outputs": [
    {
     "name": "stdout",
     "output_type": "stream",
     "text": [
      "city                MammothLakes\n",
      "elevation_m               2402.0\n",
      "area_total_km2            65.541\n",
      "population_total            8234\n",
      "density               125.631284\n",
      "Name: 246, dtype: object \n",
      "El punto es una coma, el área total es 65 km2 y la densidad es 125 hab/km2\n"
     ]
    }
   ],
   "source": [
    "# Solución\n",
    "\n",
    "mammothLakes = dfCC.loc[dfCC['elevation_m'].idxmax()][['city', 'elevation_m', 'area_total_km2', 'population_total']]\n",
    "mammothLakes['density'] = mammothLakes['population_total'] / mammothLakes['area_total_km2']\n",
    "print(mammothLakes, \"\\nEl punto es una coma, el área total es 65 km2 y la densidad es 125 hab/km2\")\n"
   ]
  }
 ],
 "metadata": {
  "kernelspec": {
   "display_name": "Python 3 (ipykernel)",
   "language": "python",
   "name": "python3"
  },
  "language_info": {
   "codemirror_mode": {
    "name": "ipython",
    "version": 3
   },
   "file_extension": ".py",
   "mimetype": "text/x-python",
   "name": "python",
   "nbconvert_exporter": "python",
   "pygments_lexer": "ipython3",
   "version": "3.8.18"
  },
  "toc": {
   "base_numbering": 1,
   "nav_menu": {},
   "number_sections": true,
   "sideBar": true,
   "skip_h1_title": false,
   "title_cell": "Tabla de contenidos",
   "title_sidebar": "Contents",
   "toc_cell": true,
   "toc_position": {
    "height": "calc(100% - 180px)",
    "left": "10px",
    "top": "150px",
    "width": "376.35px"
   },
   "toc_section_display": true,
   "toc_window_display": true
  },
  "toc-autonumbering": true
 },
 "nbformat": 4,
 "nbformat_minor": 5
}
