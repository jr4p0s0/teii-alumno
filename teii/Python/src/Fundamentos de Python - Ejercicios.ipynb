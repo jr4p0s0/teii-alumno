{
 "cells": [
  {
   "cell_type": "markdown",
   "id": "39938e2f-7834-4881-8fe0-0091e412f110",
   "metadata": {
    "toc-hr-collapsed": true
   },
   "source": [
    "# Alumno"
   ]
  },
  {
   "cell_type": "markdown",
   "id": "48332deb-2090-4822-8426-5df5bbaaf0ee",
   "metadata": {},
   "source": [
    "**Jaime Raposo Torre && Juan de Dios Hernández**"
   ]
  },
  {
   "cell_type": "markdown",
   "id": "pressing-personality",
   "metadata": {
    "toc-hr-collapsed": true
   },
   "source": [
    "# Ejercicios de nivel básico"
   ]
  },
  {
   "cell_type": "markdown",
   "id": "literary-newsletter",
   "metadata": {
    "tags": [],
    "toc-hr-collapsed": true
   },
   "source": [
    "## Listas y diccionarios"
   ]
  },
  {
   "cell_type": "markdown",
   "id": "assured-emperor",
   "metadata": {},
   "source": [
    "### Dada una frase sin signos de puntuación, calcula la lista de las longitudes de las palabras que contiene.\n",
    "\n",
    "Resuélvelo tanto con un bucle clásico como usando *list comprehensions*."
   ]
  },
  {
   "cell_type": "code",
   "execution_count": 1,
   "id": "working-carroll",
   "metadata": {},
   "outputs": [],
   "source": [
    "sentence = \"the quick brown fox jumps over the lazy dog\""
   ]
  },
  {
   "cell_type": "code",
   "execution_count": 2,
   "id": "875ea55b",
   "metadata": {},
   "outputs": [
    {
     "name": "stdout",
     "output_type": "stream",
     "text": [
      "[3, 5, 5, 3, 5, 4, 3, 4, 3]\n"
     ]
    }
   ],
   "source": [
    "# Solución con un bucle clásico\n",
    "lista_palabras = []\n",
    "for word in sentence.split():\n",
    "    lista_palabras.append(len(word))\n",
    "print(lista_palabras)"
   ]
  },
  {
   "cell_type": "code",
   "execution_count": 3,
   "id": "fa0459b4",
   "metadata": {},
   "outputs": [
    {
     "name": "stdout",
     "output_type": "stream",
     "text": [
      "[3, 5, 5, 3, 5, 4, 3, 4, 3]\n"
     ]
    }
   ],
   "source": [
    "# Solución con list comprehension\n",
    "lista = [len(word) for word in sentence.split()]\n",
    "print(lista)"
   ]
  },
  {
   "cell_type": "markdown",
   "id": "robust-expression",
   "metadata": {},
   "source": [
    "### Dada una lista de números, obtén la lista de los elementos que son positivos.\n",
    "\n",
    "Resuélvelo tanto con un bucle clásico como usando *list comprehensions*."
   ]
  },
  {
   "cell_type": "code",
   "execution_count": 4,
   "id": "reverse-fiction",
   "metadata": {},
   "outputs": [],
   "source": [
    "numbers = [2.2, -3.4, 1.0, 5.6, -1.2]"
   ]
  },
  {
   "cell_type": "code",
   "execution_count": 5,
   "id": "5b72f916",
   "metadata": {},
   "outputs": [
    {
     "name": "stdout",
     "output_type": "stream",
     "text": [
      "[2.2, 1.0, 5.6]\n"
     ]
    }
   ],
   "source": [
    "# Solución con un bucle clásico\n",
    "numPos = []\n",
    "for number in numbers:\n",
    "    if number > 0:\n",
    "        numPos.append(number)\n",
    "print(numPos)\n"
   ]
  },
  {
   "cell_type": "code",
   "execution_count": 6,
   "id": "3871d759",
   "metadata": {},
   "outputs": [
    {
     "name": "stdout",
     "output_type": "stream",
     "text": [
      "[2.2, 1.0, 5.6]\n"
     ]
    }
   ],
   "source": [
    "\n",
    "# Solución con list comprehension\n",
    "numPos = [number for number in numbers if number>0]\n",
    "print(numPos)"
   ]
  },
  {
   "cell_type": "markdown",
   "id": "sunset-identifier",
   "metadata": {},
   "source": [
    "### Dado el siguiente diccionario con pares `\"nombre\": peso`, extrae una lista con los nombres de los vehículos que pesan menos de 5000 kilos.\n",
    "\n",
    "Los nombres de la lista extraída deben estar en minúsculas.\n",
    "\n",
    "Resuélvelo usando *list comprehensions*."
   ]
  },
  {
   "cell_type": "code",
   "execution_count": 7,
   "id": "failing-championship",
   "metadata": {},
   "outputs": [],
   "source": [
    "vehicles = {\n",
    "    \"Sedan\": 1500,\n",
    "    \"SUV\": 2000,\n",
    "    \"Pickup\": 2500,\n",
    "    \"Minivan\": 1600,\n",
    "    \"Van\": 2400,\n",
    "    \"Semi\": 13600,\n",
    "    \"Bicycle\": 7,\n",
    "    \"Motorcycle\": 110\n",
    "}"
   ]
  },
  {
   "cell_type": "code",
   "execution_count": 8,
   "id": "homeless-graduation",
   "metadata": {},
   "outputs": [
    {
     "name": "stdout",
     "output_type": "stream",
     "text": [
      "['sedan', 'suv', 'pickup', 'minivan', 'van', 'bicycle', 'motorcycle']\n"
     ]
    }
   ],
   "source": [
    "# Solución con list comprehension\n",
    "less_5000 = [nombre.lower() for nombre in vehicles if vehicles[nombre] < 5000]\n",
    "print(less_5000)"
   ]
  },
  {
   "cell_type": "markdown",
   "id": "concrete-hurricane",
   "metadata": {},
   "source": [
    "### Crea una lista `lst2` con el tipo de cada elemento de la lista `lst1`.\n",
    "\n",
    "Resuélvelo tanto con un bucle clásico como usando *list comprehensions*."
   ]
  },
  {
   "cell_type": "code",
   "execution_count": 9,
   "id": "limiting-minority",
   "metadata": {},
   "outputs": [],
   "source": [
    "lst1 = [3.14, 66, \"osito\", True, [], {}]"
   ]
  },
  {
   "cell_type": "code",
   "execution_count": 10,
   "id": "confident-replication",
   "metadata": {
    "tags": []
   },
   "outputs": [
    {
     "name": "stdout",
     "output_type": "stream",
     "text": [
      "[<class 'float'>, <class 'int'>, <class 'str'>, <class 'bool'>, <class 'list'>, <class 'dict'>]\n"
     ]
    }
   ],
   "source": [
    "# Solución con bucle clásico\n",
    "lst2 = []\n",
    "for elemento in lst1:\n",
    "    lst2.append(type(elemento))\n",
    "print(lst2)"
   ]
  },
  {
   "cell_type": "code",
   "execution_count": 11,
   "id": "e7c8ed49-360a-4cc5-acdf-358a8fac098b",
   "metadata": {
    "tags": []
   },
   "outputs": [
    {
     "name": "stdout",
     "output_type": "stream",
     "text": [
      "[<class 'float'>, <class 'int'>, <class 'str'>, <class 'bool'>, <class 'list'>, <class 'dict'>]\n"
     ]
    }
   ],
   "source": [
    "# Solución con list comprehension\n",
    "lst2 = [type(elemento) for elemento in lst1]\n",
    "print(lst2)"
   ]
  },
  {
   "cell_type": "markdown",
   "id": "known-watershed",
   "metadata": {},
   "source": [
    "### Usando la función `zip()`, crea un diccionario que forme sus pares `\"clave\": valor` a partir de las listas `lst1` y `lst2`."
   ]
  },
  {
   "cell_type": "code",
   "execution_count": 12,
   "id": "macro-filling",
   "metadata": {},
   "outputs": [],
   "source": [
    "lst1 = [\"Netflix\", \"Hulu\", \"Sling\", \"HBO\"]\n",
    "lst2 = [198, 166, 237, 125]"
   ]
  },
  {
   "cell_type": "code",
   "execution_count": 13,
   "id": "advance-science",
   "metadata": {},
   "outputs": [
    {
     "data": {
      "text/plain": [
       "{'Netflix': 198, 'Hulu': 166, 'Sling': 237, 'HBO': 125}"
      ]
     },
     "execution_count": 13,
     "metadata": {},
     "output_type": "execute_result"
    }
   ],
   "source": [
    "# Solución\n",
    "dict(zip(lst1,lst2))\n"
   ]
  },
  {
   "cell_type": "markdown",
   "id": "mounted-preliminary",
   "metadata": {},
   "source": [
    "### Crea una lista ordenada de tuplas `(\"nombre\", edad)` a partir de las listas `nombres` y `edades`.\n",
    "\n",
    "Pista: Usa las funciones `zip()` y `sorted()`"
   ]
  },
  {
   "cell_type": "code",
   "execution_count": 14,
   "id": "mediterranean-mission",
   "metadata": {},
   "outputs": [],
   "source": [
    "nombres = [\"Mike\", \"Danny\", \"Jim\", \"Annie\"]\n",
    "edades = [4, 12, 7, 19]"
   ]
  },
  {
   "cell_type": "code",
   "execution_count": 15,
   "id": "dominican-ocean",
   "metadata": {},
   "outputs": [
    {
     "name": "stdout",
     "output_type": "stream",
     "text": [
      "[('Annie', 19), ('Danny', 12), ('Jim', 7), ('Mike', 4)]\n"
     ]
    }
   ],
   "source": [
    "# Solución\n",
    "lista = [ tupla for tupla in sorted(zip(nombres,edades))]\n",
    "print(lista)"
   ]
  },
  {
   "cell_type": "markdown",
   "id": "former-crawford",
   "metadata": {},
   "source": [
    "### Crea un diccionario que asocie cada letra del rango a-z con su correspondiente codificación en Unicode. \n",
    "\n",
    "Pista: Usa las funciones `ord()` (que devuelve el código Unicode de un carácter) y `chr()` (que devuelve la letra asociada a su código Unicode): `{'a': 97, 'b': 98, 'c': 99, ..., 'z': 122}`.\n",
    "\n",
    "Resuélvelo tanto con un bucle clásico como usando *dict comprehensions*."
   ]
  },
  {
   "cell_type": "code",
   "execution_count": 16,
   "id": "dominican-motorcycle",
   "metadata": {},
   "outputs": [
    {
     "name": "stdout",
     "output_type": "stream",
     "text": [
      "{'a': 97, 'b': 98, 'c': 99, 'd': 100, 'e': 101, 'f': 102, 'g': 103, 'h': 104, 'i': 105, 'j': 106, 'k': 107, 'l': 108, 'm': 109, 'n': 110, 'o': 111, 'p': 112, 'q': 113, 'r': 114, 's': 115, 't': 116, 'u': 117, 'v': 118, 'w': 119, 'x': 120, 'y': 121, 'z': 122}\n"
     ]
    }
   ],
   "source": [
    "# Solución con bucle clásico\n",
    "import string as st\n",
    "dicti = {}\n",
    "for letra in st.ascii_lowercase:\n",
    "    dicti[letra]=ord(letra)\n",
    "print(dicti)"
   ]
  },
  {
   "cell_type": "code",
   "execution_count": 17,
   "id": "cf81cbf9",
   "metadata": {},
   "outputs": [
    {
     "name": "stdout",
     "output_type": "stream",
     "text": [
      "{'a': 97, 'b': 98, 'c': 99, 'd': 100, 'e': 101, 'f': 102, 'g': 103, 'h': 104, 'i': 105, 'j': 106, 'k': 107, 'l': 108, 'm': 109, 'n': 110, 'o': 111, 'p': 112, 'q': 113, 'r': 114, 's': 115, 't': 116, 'u': 117, 'v': 118, 'w': 119, 'x': 120, 'y': 121, 'z': 122}\n"
     ]
    }
   ],
   "source": [
    "# Solución con dict comprehension\n",
    "d = {letra: ord(letra) for letra in st.ascii_lowercase}\n",
    "print(d)"
   ]
  },
  {
   "cell_type": "markdown",
   "id": "ceramic-genre",
   "metadata": {},
   "source": [
    "### Genera un diccionario que contenga las letras del rango a-z cuya codificación en Unicode sea un número par usando *dict comprehensions*.\n",
    "\n",
    "Puedes partir del diccionario del ejercicio anterior."
   ]
  },
  {
   "cell_type": "code",
   "execution_count": 18,
   "id": "clinical-motorcycle",
   "metadata": {},
   "outputs": [
    {
     "data": {
      "text/plain": [
       "{'b': 98,\n",
       " 'd': 100,\n",
       " 'f': 102,\n",
       " 'h': 104,\n",
       " 'j': 106,\n",
       " 'l': 108,\n",
       " 'n': 110,\n",
       " 'p': 112,\n",
       " 'r': 114,\n",
       " 't': 116,\n",
       " 'v': 118,\n",
       " 'x': 120,\n",
       " 'z': 122}"
      ]
     },
     "execution_count": 18,
     "metadata": {},
     "output_type": "execute_result"
    }
   ],
   "source": [
    "# Solución\n",
    "dNumPar = {letra: ord(letra) for letra in st.ascii_lowercase if ord(letra) % 2 == 0}\n",
    "dNumPar"
   ]
  },
  {
   "cell_type": "markdown",
   "id": "bfe4e56e",
   "metadata": {},
   "source": [
    "### Convierte una lista que contiene listas (bidimensional) en una lista plana.\n",
    "\n",
    "Resuélvelo con una *list comprehension*"
   ]
  },
  {
   "cell_type": "code",
   "execution_count": 19,
   "id": "7cef859f",
   "metadata": {},
   "outputs": [],
   "source": [
    "listas = [[1, 2, 3],[4, 5, 6]]"
   ]
  },
  {
   "cell_type": "code",
   "execution_count": 20,
   "id": "941d03ce",
   "metadata": {},
   "outputs": [
    {
     "data": {
      "text/plain": [
       "[1, 2, 3, 4, 5, 6]"
      ]
     },
     "execution_count": 20,
     "metadata": {},
     "output_type": "execute_result"
    }
   ],
   "source": [
    "# Solución: [1, 2, 3, 4, 5, 6]\n",
    "lista = [num for subl in listas for num in subl]\n",
    "lista"
   ]
  },
  {
   "cell_type": "markdown",
   "id": "52adf287",
   "metadata": {},
   "source": [
    "### Programa una función `list_greater_than(numbers: List[int], threshold: int)`\n",
    "\n",
    "Esta función debe recibir una lista de números y un número, y devolver una lista de *booleanos* indicando si cada número de la lista original es estrictamente mayor que dicho número. Por ejemplo, `list_greater_than([1, 2, 3, 4, 5], 3)` devolvería `[False, False, False, True, True]`."
   ]
  },
  {
   "cell_type": "code",
   "execution_count": 21,
   "id": "56e7cfb3",
   "metadata": {},
   "outputs": [
    {
     "data": {
      "text/plain": [
       "[False, False, False, True, True]"
      ]
     },
     "execution_count": 21,
     "metadata": {},
     "output_type": "execute_result"
    }
   ],
   "source": [
    "# Solución\n",
    "def list_greater_than(numbers: list, threshold: int) -> list:\n",
    "    return [True if num > threshold else False for num in numbers]\n",
    "\n",
    "list_greater_than([1, 2, 3, 4, 5], 3)"
   ]
  },
  {
   "cell_type": "markdown",
   "id": "direct-rocket",
   "metadata": {
    "tags": [],
    "toc-hr-collapsed": true
   },
   "source": [
    "## Cadenas"
   ]
  },
  {
   "cell_type": "markdown",
   "id": "changing-excuse",
   "metadata": {},
   "source": [
    "### Construye una cadena que tenga todos los nombres de los vehículos del diccionario `vehicles` separados por comas.\n",
    "\n",
    "Pista: Usa la función `join()`"
   ]
  },
  {
   "cell_type": "code",
   "execution_count": 22,
   "id": "technical-reservation",
   "metadata": {},
   "outputs": [
    {
     "data": {
      "text/plain": [
       "'Sedan,SUV,Pickup,Minivan,Van,Semi,Bicycle,Motorcycle'"
      ]
     },
     "execution_count": 22,
     "metadata": {},
     "output_type": "execute_result"
    }
   ],
   "source": [
    "# Solución\n",
    "nombres_coches = \",\".join(vehicles.keys())\n",
    "nombres_coches"
   ]
  },
  {
   "cell_type": "markdown",
   "id": "incorporate-madison",
   "metadata": {},
   "source": [
    "### Genera una cadena con retornos de carro, de manera que se imprima como un poema, con la siguiente lista de frases.\n",
    "\n",
    "Pista: Usa la función `join()`"
   ]
  },
  {
   "cell_type": "code",
   "execution_count": 23,
   "id": "absent-coupon",
   "metadata": {},
   "outputs": [],
   "source": [
    "frases = ['Aquí la envidia y mentira',\n",
    "          'me tuvieron encerrado.',\n",
    "          'Dichoso el humilde estado',\n",
    "          'del sabio que se retira',\n",
    "          'de aqueste mundo malvado.']"
   ]
  },
  {
   "cell_type": "code",
   "execution_count": 24,
   "id": "palestinian-tablet",
   "metadata": {},
   "outputs": [
    {
     "name": "stdout",
     "output_type": "stream",
     "text": [
      "Aquí la envidia y mentira\n",
      "me tuvieron encerrado.\n",
      "Dichoso el humilde estado\n",
      "del sabio que se retira\n",
      "de aqueste mundo malvado.\n"
     ]
    }
   ],
   "source": [
    "# Solución\n",
    "poema = \"\\n\".join(frases)\n",
    "print(poema)"
   ]
  },
  {
   "cell_type": "markdown",
   "id": "revolutionary-provincial",
   "metadata": {},
   "source": [
    "### Convierte una cadena con una fecha en formato 'AAAA-MM-DD' al formato 'DD/MM/AAAA'.\n",
    "\n",
    "Pista: Usa las funciones `split()` y `join()`"
   ]
  },
  {
   "cell_type": "code",
   "execution_count": 25,
   "id": "abandoned-latex",
   "metadata": {},
   "outputs": [
    {
     "name": "stdout",
     "output_type": "stream",
     "text": [
      "1 2 3\n"
     ]
    }
   ],
   "source": [
    "# Pista: la siguiente línea te puede facilitar la tarea.\n",
    "\n",
    "a, b, c = [1, 2, 3]\n",
    "print(a,b,c)"
   ]
  },
  {
   "cell_type": "code",
   "execution_count": 26,
   "id": "pressed-habitat",
   "metadata": {},
   "outputs": [
    {
     "data": {
      "text/plain": [
       "'15/5/2012'"
      ]
     },
     "execution_count": 26,
     "metadata": {},
     "output_type": "execute_result"
    }
   ],
   "source": [
    "# Solución\n",
    "fecha = '2012-5-15'\n",
    "AAAA, MM, DD = fecha.split('-')\n",
    "fecha2 = DD, MM, AAAA\n",
    "\"/\".join(fecha2)\n",
    "\n"
   ]
  },
  {
   "cell_type": "markdown",
   "id": "9d0207f9",
   "metadata": {},
   "source": [
    "### Convierte a mayúsculas el primer de carácter de cada palabra de una lista de cadenas de caracteres.\n",
    "\n",
    "Utiliza como entrada la lista de cadenas de caracteres `frases` definida anteriormente. El resultado debe ser una única cadena: \"Aquí La Envidia Y Mentira Me Tuvieron Encerrrado. Dichoso El Humilde Estado Del Sabio Que Se Retira De Aqueste Mundo Malvado.\".\n",
    "\n",
    "Resuélvelo tanto con un bucle clásico como usando *list comprehensions*.\n",
    "\n",
    "Pista: Usa la función `capitalize()`"
   ]
  },
  {
   "cell_type": "code",
   "execution_count": 27,
   "id": "c9a8274f",
   "metadata": {},
   "outputs": [
    {
     "name": "stdout",
     "output_type": "stream",
     "text": [
      "Aquí La Envidia Y Mentira Me Tuvieron Encerrado. Dichoso El Humilde Estado Del Sabio Que Se Retira De Aqueste Mundo Malvado.\n"
     ]
    }
   ],
   "source": [
    "# Solución con bucle clásico\n",
    "lista = []\n",
    "cadena = \"\"\n",
    "for palabra in \" \".join(frases).split(\" \"):\n",
    "    lista.append(palabra.capitalize())\n",
    "print(\" \".join(lista))\n"
   ]
  },
  {
   "cell_type": "code",
   "execution_count": 28,
   "id": "3fd39525",
   "metadata": {},
   "outputs": [
    {
     "data": {
      "text/plain": [
       "'Aquí La Envidia Y Mentira Me Tuvieron Encerrado. Dichoso El Humilde Estado Del Sabio Que Se Retira De Aqueste Mundo Malvado.'"
      ]
     },
     "execution_count": 28,
     "metadata": {},
     "output_type": "execute_result"
    }
   ],
   "source": [
    "# Solución con list comprehension\n",
    "cadena = \" \".join([ palabra.capitalize() for palabra in  \" \".join(frases).split(\" \") ] )\n",
    "cadena"
   ]
  },
  {
   "cell_type": "markdown",
   "id": "utility-nickel",
   "metadata": {},
   "source": [
    "# Ejercicios de nivel intermedio"
   ]
  },
  {
   "cell_type": "markdown",
   "id": "passive-aviation",
   "metadata": {},
   "source": [
    "## Listas, diccionarios, conjuntos, tuplas y cadenas"
   ]
  },
  {
   "cell_type": "markdown",
   "id": "differential-messenger",
   "metadata": {},
   "source": [
    "### Programa una función llamada `is_valid_zipcode(zipcode: str)`\n",
    "\n",
    "Esta función recibe una cadena y devuelve un *booleano* indicando si la cadena es un código postal válido. Consideraremos que una cadena es un código postal válido si está compuesta de 5 dígitos. Por ejemplo, `is_valid_zip_code('30500')` devolvería `True`, mientras que `is_valid_zip_code('3050a')` y `is_valid_zip_code('3050')` devolverían `False`."
   ]
  },
  {
   "cell_type": "code",
   "execution_count": 29,
   "id": "approved-veteran",
   "metadata": {},
   "outputs": [
    {
     "name": "stdout",
     "output_type": "stream",
     "text": [
      "True\n",
      "False\n",
      "False\n"
     ]
    }
   ],
   "source": [
    "# Solución\n",
    "def is_valid_zipcode(zipcode):\n",
    "    # check if the length of the zipcode is 5 and if it is a number\n",
    "    if (len(zipcode) != 5 or not zipcode.isdigit()):\n",
    "        return False\n",
    "    return True\n",
    "\n",
    "print(is_valid_zipcode('30500'))\n",
    "print(is_valid_zipcode('3050a'))\n",
    "print(is_valid_zipcode('3050'))"
   ]
  },
  {
   "cell_type": "markdown",
   "id": "cooperative-ribbon",
   "metadata": {},
   "source": [
    "### Programa una función llamada `primos(numero: int)` \n",
    "\n",
    "Esta función debe recibir un número y devolver una lista con los números primos que se encuentran entre 2 y ese número. Por ejemplo:\n",
    "\n",
    "`primos(50)`\n",
    "\n",
    "devolvería la siguiente lista:\n",
    "\n",
    "`[2, 3, 5, 7, 11, 13, 17, 19, 23, 29, 31, 37, 41, 43, 47]`"
   ]
  },
  {
   "cell_type": "code",
   "execution_count": 30,
   "id": "helpful-damages",
   "metadata": {},
   "outputs": [
    {
     "name": "stdout",
     "output_type": "stream",
     "text": [
      "[2, 3, 5, 7, 11, 13, 17, 19, 23, 29, 31, 37, 41, 43, 47, 53, 59, 61, 67, 71, 73, 79, 83, 89, 97, 101, 103, 107, 109, 113, 127, 131, 137, 139, 149, 151, 157, 163, 167, 173, 179, 181, 191, 193, 197, 199, 211, 223, 227, 229, 233, 239, 241, 251, 257, 263, 269, 271, 277, 281, 283, 293, 307, 311, 313, 317, 331, 337, 347, 349, 353, 359, 367, 373, 379, 383, 389, 397, 401, 409, 419, 421, 431, 433, 439, 443, 449, 457, 461, 463, 467, 479, 487, 491, 499, 503, 509, 521, 523, 541, 547, 557, 563, 569, 571, 577, 587, 593, 599, 601, 607, 613, 617, 619, 631, 641, 643, 647, 653, 659, 661, 673, 677, 683, 691, 701, 709, 719, 727, 733, 739, 743, 751, 757, 761, 769, 773, 787, 797, 809, 811, 821, 823, 827, 829, 839, 853, 857, 859, 863, 877, 881, 883, 887, 907, 911, 919, 929, 937, 941, 947, 953, 967, 971, 977, 983, 991, 997]\n",
      "[2, 3, 5, 7, 11, 13, 17, 19, 23, 29, 31, 37, 41, 43, 47, 53, 59, 61, 67, 71, 73, 79, 83, 89, 97, 101, 103, 107, 109, 113, 127, 131, 137, 139, 149, 151, 157, 163, 167, 173, 179, 181, 191, 193, 197, 199, 211, 223, 227, 229, 233, 239, 241, 251, 257, 263, 269, 271, 277, 281, 283, 293, 307, 311, 313, 317, 331, 337, 347, 349, 353, 359, 367, 373, 379, 383, 389, 397, 401, 409, 419, 421, 431, 433, 439, 443, 449, 457, 461, 463, 467, 479, 487, 491, 499, 503, 509, 521, 523, 541, 547, 557, 563, 569, 571, 577, 587, 593, 599, 601, 607, 613, 617, 619, 631, 641, 643, 647, 653, 659, 661, 673, 677, 683, 691, 701, 709, 719, 727, 733, 739, 743, 751, 757, 761, 769, 773, 787, 797, 809, 811, 821, 823, 827, 829, 839, 853, 857, 859, 863, 877, 881, 883, 887, 907, 911, 919, 929, 937, 941, 947, 953, 967, 971, 977, 983, 991, 997]\n"
     ]
    }
   ],
   "source": [
    "# Solución\n",
    "def primos(num: int): # sin optimizar\n",
    "    return [n for n in range(2,num) if all(n%i != 0 for i in range(2,n))]\n",
    "# test\n",
    "print(primos(1000))\n",
    "\n",
    "def primos(num: int): # optimizado\n",
    "    return [n for n in range(2,num) if all(n%i != 0 for i in range(2,int(n**0.5)+1))]\n",
    "# test\n",
    "print(primos(1000))\n",
    "\n",
    "# En la version optimizada solo se hacen comparaciones hasta la raiz cuadrada de n, ya que n no puede tener un divisor mayor que su raiz cuadrada\n",
    "# utilizamos la funcion all que compara todos los valores booleanos de un iterable, si todos son True, devuelve True, si alguno es False, devuelve False\n",
    "# en este caso, si alguno de los valores de n%i == 0 es False, significa que n tiene un divisor y por lo tanto no es primo"
   ]
  },
  {
   "cell_type": "markdown",
   "id": "intelligent-juice",
   "metadata": {},
   "source": [
    "### Programa una función llamada `word_search(strings: List[str], keyword: str)`\n",
    "\n",
    "Esta función recibe como argumentos una lista de cadenas y una cadena con una palabra a buscar, y devuelve la lista de los índices de las cadenas que contienen dicha palabra, independientemente de que haya mayúsculas o minúsculas. Nótese que hay que buscar palabras enteras, no partes de otras palabras. En la lista de cadenas puede haber caracteres no alfabéticos (símbolos) tras alguna palabra y eso no debe interferir con la búsqueda.\n",
    "\n",
    "**Nota**: Para simplificar el código puedes asumir que los únicos caracteres no alfabéticos que aparecen en la lista de cadenas son el punto y la coma."
   ]
  },
  {
   "cell_type": "code",
   "execution_count": 31,
   "id": "parliamentary-rates",
   "metadata": {},
   "outputs": [],
   "source": [
    "frases = [\"No por mucho madrugar amanece más temprano.\",\n",
    "          \"Ellos se compraron un coche.\",\n",
    "          \"Sopor es un nombre.\",\n",
    "          \"Soporífero es un adjetivo.\",\n",
    "          \"Insoportable.\",\n",
    "          \" Sopor. \"]"
   ]
  },
  {
   "cell_type": "code",
   "execution_count": 32,
   "id": "c45a8922",
   "metadata": {},
   "outputs": [
    {
     "name": "stdout",
     "output_type": "stream",
     "text": [
      "[0]\n",
      "[2]\n",
      "[]\n"
     ]
    }
   ],
   "source": [
    "# Solución\n",
    "def word_search(frases: list, palabra: str) -> list:\n",
    "    return [frases.index(frase) for frase in frases if palabra.lower() in frase.lower().split()]\n",
    "\n",
    "# test\n",
    "print(word_search(frases, 'por'))\n",
    "print(word_search(frases, 'sopor'))\n",
    "print(word_search(frases, 'teii'))"
   ]
  },
  {
   "cell_type": "markdown",
   "id": "featured-october",
   "metadata": {},
   "source": [
    "### Programa una función llamada `word_count(path: str)`\n",
    "\n",
    "Esta función debe recibir como parámetro la ruta a un archivo de texto compuesto por diferentes líneas que contienen palabras, e imprimir el número de palabras que contiene el archivo. Si el archivo no existe, la función debe capturar la excepción e imprimir un mensaje de error. Por ejemplo, `word_count(\"palabras\")` imprimiría `70` mientras que `word_count(\"nopalabras\")` mostraría `\"Archivo 'nopalabras' no encontrado.\"`. Nótese que en el archivo puede haber caracteres no alfabéticos (símbolos) entre algunas palabras que no deben interferir con el cálculo del resultado.\n",
    "\n",
    "**Nota**: Para simplificar el código puedes asumir que los únicos caracteres no alfabéticos que aparecen en la lista de cadenas son el punto y la coma."
   ]
  },
  {
   "cell_type": "code",
   "execution_count": 33,
   "id": "removed-governor",
   "metadata": {},
   "outputs": [
    {
     "name": "stdout",
     "output_type": "stream",
     "text": [
      "70\n",
      "El archivo 'nopalabras' no encontrado\n"
     ]
    }
   ],
   "source": [
    "# Solución\n",
    "def word_count(path: str):\n",
    "    try:\n",
    "        with open(path) as file:\n",
    "            palabras = file.read().replace(\",\", \"\").replace(\".\", \"\").replace(\"\\n\", \" \").split()\n",
    "            return len(palabras)\n",
    "    except FileNotFoundError:\n",
    "        print(\"El archivo '\" + path + \"' no encontrado\")\n",
    "\n",
    "print(word_count(\"palabras\"))\n",
    "word_count(\"nopalabras\")"
   ]
  },
  {
   "cell_type": "markdown",
   "id": "general-kazakhstan",
   "metadata": {},
   "source": [
    "### Programa una función llamada `unique_words(path: str)`\n",
    " \n",
    "Esta función debe recibir como parámetro la ruta a un archivo de texto compuesto por diferentes líneas que contienen palabras, y devolver una lista con todas las palabras diferentes que contiene el archivo ordenadas alfabéticamente (no tengas en cuenta que las tildes se ordenan incorrectamente), independientemente de que haya mayúsculas o minúsculas. Nótese que en la lista de cadenas puede haber caracteres no alfabéticos (símbolos) entre algunas palabras que deben ignorarse, es decir, no deben aparecer en la lista. Por ejemplo, `unique_words(\"palabras\")` devolvería la lista `['a', 'alfabéticos', 'alguna', 'argumentos', ..., 'índices']`.\n",
    "\n",
    "**Nota**: Para simplificar el código puedes asumir que los únicos caracteres no alfabéticos que aparecen en la lista de cadenas son el punto y la coma."
   ]
  },
  {
   "cell_type": "code",
   "execution_count": 34,
   "id": "domestic-azerbaijan",
   "metadata": {},
   "outputs": [
    {
     "name": "stdout",
     "output_type": "stream",
     "text": [
      "['a', 'alfabéticos', 'alguna', 'argumentos', 'buscar', 'búsqueda', 'cadena', 'cadenas', 'caracteres', 'como', 'con', 'contienen', 'de', 'deben', 'devuelve', 'dicha', 'En', 'enteras', 'Esta', 'función', 'haber', 'hay', 'haya', 'independientemente', 'interferir', 'la', 'las', 'lista', 'los', 'mayúsculas', 'minúsculas', 'no', 'Nótese', 'o', 'otras', 'palabra', 'palabras', 'partes', 'puede', 'que', 'recibe', 'tras', 'una', 'y', 'índices']\n"
     ]
    }
   ],
   "source": [
    "# Solución\n",
    "def unique_words(path: str):\n",
    "    try:\n",
    "        with open(path) as file:\n",
    "            palabras = file.read().replace(\",\", \"\").replace(\".\", \"\").replace(\"\\n\", \" \").split()\n",
    "            # primero hacemos un set para eliminar las repeticiones, después \n",
    "            # ordenamos la lista de palabras unicas con el metodo sorted y la funcion lambda, \n",
    "            # que nos indica el metodo de ordenacion (en este caso, por el valor en minusculas)\n",
    "            lista_ordenada = sorted(set(palabras), key=lambda x: x.lower()) \n",
    "            return lista_ordenada\n",
    "    except FileNotFoundError:\n",
    "        print(\"El archivo '\" + path + \"' no encontrado\")\n",
    "\n",
    "\n",
    "print(unique_words(\"palabras\"))"
   ]
  },
  {
   "cell_type": "markdown",
   "id": "056dc67e",
   "metadata": {},
   "source": [
    "### Programa una función llamada `letter_count(path: str)`\n",
    "\n",
    "Esta función debe recibir como parámetro la ruta a un archivo de texto compuesto por diferentes líneas que contienen palabras, y devolver una lista de tuplas `(carácter, apariciones)` con las tuplas ordenadas alfabéticamente (no tengas en cuenta que las tildes se ordenan incorrectamente). Deben omitirse todos los caracteres no alfabéticos y los espacios. Además, no debe distinguirse entre mayúsculas minúsculas. Por ejemplo, `letter_count(\"palabras\")` devolvería la lista `[('a', 57), ('b', 12), ('c', 19), ..., ('ú', 3)]`."
   ]
  },
  {
   "cell_type": "code",
   "execution_count": 35,
   "id": "c390ba01",
   "metadata": {},
   "outputs": [
    {
     "name": "stdout",
     "output_type": "stream",
     "text": [
      "[('a', 57), ('b', 12), ('c', 19), ('d', 18), ('e', 45), ('f', 3), ('g', 2), ('h', 4), ('i', 14), ('l', 18), ('m', 5), ('n', 29), ('o', 13), ('p', 8), ('q', 6), ('r', 19), ('s', 27), ('t', 16), ('u', 18), ('v', 2), ('y', 5), ('é', 1), ('í', 1), ('ó', 2), ('ú', 3)]\n"
     ]
    }
   ],
   "source": [
    "# Solución devolviendo lista de tuplas\n",
    "def letter_count(path: str):\n",
    "    try:\n",
    "        with open(path) as file:\n",
    "            letras = file.read().replace(\",\", \"\").replace(\".\", \"\").replace(\"\\n\", \"\").replace(\" \", \"\")\n",
    "            # creamos un diccionario con las letras y sus repeticiones\n",
    "            d = {letra: letras.count(letra) for letra in letras.lower()}\n",
    "            # convertimos el diccionario en una lista de tuplas\n",
    "            lista = sorted([(letra, d[letra]) for letra in d])\n",
    "            return lista\n",
    "    except FileNotFoundError:\n",
    "        print(\"El archivo '\" + path + \"' no encontrado\")\n",
    "print(letter_count(\"palabras\"))"
   ]
  },
  {
   "cell_type": "markdown",
   "id": "16e0df5a",
   "metadata": {},
   "source": [
    "# Ejercicios sobre Programación Orientada a Objectos"
   ]
  },
  {
   "cell_type": "markdown",
   "id": "f15df7c6",
   "metadata": {},
   "source": [
    "## Crea una jerarquía con las clases `Persona`, `Alumno` y `Profesor`."
   ]
  },
  {
   "cell_type": "markdown",
   "id": "565d30dc",
   "metadata": {},
   "source": [
    "Dada la siguiente definición de la clase `Persona`:"
   ]
  },
  {
   "cell_type": "code",
   "execution_count": 36,
   "id": "3084b304",
   "metadata": {},
   "outputs": [],
   "source": [
    "class Persona(object):\n",
    "    \"\"\" Una clase sencilla. \"\"\"   # esto es un docstring\n",
    "    especie = \"Homo Sapiens\"   # atributo de clase compartido entre todas las instancias\n",
    "    \n",
    "    def __init__(self, nombre):   # método mágico (dunder method)\n",
    "        \"\"\" Este es el inicializador. \"\"\"\n",
    "        self.nombre = nombre   # atributo de instancia diferente para cada objeto\n",
    "        \n",
    "    def __str__(self):   # método mágico (dunder method)\n",
    "        \"\"\" Este método lo usa Python cuando necesita imprimir el objeto como una cadena.\n",
    "        Por ejemplo, lo usa la función print(). \"\"\"\n",
    "        return self.nombre\n",
    "\n",
    "    def __repr__(self):   # método mágico (dunder method)\n",
    "        \"\"\" Este método lo usa Python cuando necesita representar objeto como una cadena.\n",
    "        La cadena resultante se puede ejecutar o evaluar. \"\"\"\n",
    "        return f\"{__class__.__name__}({self.nombre})\"\n",
    "\n",
    "    def rename(self, nuevo_nombre):   # método común\n",
    "        \"\"\" Reasigna el nombre y lo imprime. \"\"\"\n",
    "        self.nombre = nuevo_nombre\n",
    "        print(f\"Ahora me llamo {self.nombre}\")"
   ]
  },
  {
   "cell_type": "markdown",
   "id": "b3327518",
   "metadata": {},
   "source": [
    "\n",
    "* Extiende la clase `Persona`:\n",
    "  * El inicializador debe definir un atributo edad con un valor por defecto de 18 si no se especifica.\n",
    "  * Crea un *getter* y un *setter* para una *property* edad. El *setter* debe comprobar que la edad es un entero mayor que o igual a 18 y menor que o igual a 99. Si no se cumple la condición, la asignación no se lleva a cabo.\n",
    "* Escribe dos subclases de la clase Persona llamadas Alumno y Profesor.\n",
    "  * La subclase `Alumno` debe definir los siguientes atributos y métodos:\n",
    "    * Atributos:\n",
    "      * `_notas: Dict[str, float]` (relaciona cada asignatura con su nota)\n",
    "    * Propiedades:\n",
    "      * `notas: str` (devuelve un diccionario `Dict[str, Calificacion]` de la forma \"Ai: Ci\" dónde `A` es la asignatura y `C` la calificación)\n",
    "        * La calificación debe ser un enumerado con los siguientes valores: \"NP\" (`None`), \"APROBADO\" [5..6], \"BIEN\" [6..7), \"NOTABLE\" [7..9) y \"SOBRESALIENTE\" [9..10]\n",
    "    * Métodos:\n",
    "      * `matricula_asignatura(asignatura: str)`: añade `asignatura` a `_notas` con una nota inicial `None`.\n",
    "        * Si el alumno ya está matriculado en `asignatura`, se mostrará el mensaje \"El alumno '{nombre}' YA está matriculado en '{asignatura}'\".\n",
    "      * `elimina_asignatura(asignatura: str)`: elimina `asignatura` de `_notas`.\n",
    "        * Si el alumno no está matriculado en `asignatura`, se mostrará el mensaje \"El alumno '{nombre}' NO está matriculado en '{asignatura}'\".\n",
    "      * `califica_asignatura(asignatura: str, nota: float)`: asigna la calificación `nota` a la asignatura `asignatura`.\n",
    "        * Si el alumno no está matriculado en `asignatura`, se mostrará el mensaje de error \"El alumno '{nombre}' NO está matriculado en '{asignatura}'\".\n",
    "        * Si la nota no es un valor real entre 0.0 y 10.0, se emitirá una excepción `ValueError`.\n",
    "      * `nota_asignatura(asignatura: str)`: devuelve la nota numérica de `asignatura`\n",
    "        * Si el alumno no está matriculado en `asignatura`, se mostrará el mensaje \"El alumno '{nombre}' NO está matriculado en '{asignatura}'\" y se devolverá `None`.\n",
    "        * Si la asignatura `asignatura` no tiene una nota numérica, se mostrará el mensaje \"El alumno '{nombre}' NO ha sido calificado en '{asignatura}'\" y se devolverá `None`.\n",
    "  * La subclase `Profesor` debe definir los siguientes atributos y métodos:\n",
    "    * Atributos:\n",
    "      * `_asignaturas: List[str]` (asignaturas impartidas por el profesor)\n",
    "    * Propiedades:\n",
    "      * `asignaturas: List[str]` (devuelve la lista de asignaturas impartidas por el profesor ordenadas alfabéticamente)\n",
    "      * `num_asignaturas: int` (devuelve el número de asignaturas impartidas por el profesor)\n",
    "    * Métodos:\n",
    "      * `imparte_asignatura(asignatura: str)`: añade `asignatura` a `_asignaturas`.\n",
    "        * Si el profesor ya imparte `asignatura`, se mostrará el mensaje \"El profesor '{nombre}' YA imparte '{asignatura}'\".\n",
    "      * `elimina_asignatura(asignatura: str)`: elimina `asignatura` de `_asignaturas`.\n",
    "        * Si el profesor no imparte `asignatura`, se mostrará el mensaje \"El profesor '{nombre}' NO imparte '{asignatura}'\"."
   ]
  },
  {
   "cell_type": "code",
   "execution_count": 1,
   "id": "99bb37d3",
   "metadata": {},
   "outputs": [
    {
     "name": "stdout",
     "output_type": "stream",
     "text": [
      "Juan\n",
      "18\n",
      "20\n",
      "{'Matemáticas': 'NP', 'Lengua': 'NP'}\n",
      "{'Matemáticas': 'BIEN', 'Lengua': 'NOTABLE'}\n",
      "['Lengua', 'Matematicas']\n",
      "2\n",
      "['Lengua']\n"
     ]
    }
   ],
   "source": [
    "from typing import Dict, List\n",
    "from enum import Enum\n",
    "\n",
    "class Calificacion(Enum):\n",
    "    NP = \"NP\"\n",
    "    APROBADO = \"APROBADO\"\n",
    "    BIEN = \"BIEN\"\n",
    "    NOTABLE = \"NOTABLE\"\n",
    "    SOBRESALIENTE = \"SOBRESALIENTE\"\n",
    "    \n",
    "    def __str__(self):\n",
    "        return self.value\n",
    "\n",
    "class Persona(object):\n",
    "    \"\"\" Una clase sencilla. \"\"\"   # esto es un docstring\n",
    "    especie = \"Homo Sapiens\"   # atributo de clase compartido entre todas las instancias\n",
    "    \n",
    "    \n",
    "    def __init__(self, nombre, edad=18):\n",
    "        self.nombre = nombre\n",
    "        self._edad = edad\n",
    "\n",
    "    @property\n",
    "    def edad(self):\n",
    "        return self._edad\n",
    "\n",
    "    @edad.setter\n",
    "    def edad(self, valor):\n",
    "        if isinstance(valor, int) and 18 <= valor <= 99:\n",
    "            self._edad = valor\n",
    "\n",
    "class Alumno(Persona):\n",
    "    def __init__(self, nombre, edad=18):\n",
    "        super().__init__(nombre, edad)\n",
    "        self._notas: Dict[str, float] = {}\n",
    "\n",
    "    @property\n",
    "    def notas(self) -> Dict[str, str]:\n",
    "        return {asignatura: str(self._calificacion(nota)) for asignatura, nota in self._notas.items()}\n",
    "\n",
    "    def _calificacion(self, nota: float) -> str:\n",
    "        if nota is None:\n",
    "            return str(Calificacion.NP)\n",
    "        elif 5 <= nota < 6:\n",
    "            return str(Calificacion.APROBADO)\n",
    "        elif 6 <= nota < 7:\n",
    "            return str(Calificacion.BIEN)\n",
    "        elif 7 <= nota < 9:\n",
    "            return str(Calificacion.NOTABLE)\n",
    "        else:\n",
    "            return str(Calificacion.SOBRESALIENTE)\n",
    "\n",
    "    def matricula_asignatura(self, asignatura: str):\n",
    "        if asignatura in self._notas:\n",
    "            print(f\"El alumno '{self.nombre}' YA está matriculado en '{asignatura}'\")\n",
    "        else:\n",
    "            self._notas[asignatura] = None\n",
    "\n",
    "    def elimina_asignatura(self, asignatura: str):\n",
    "        if asignatura in self._notas:\n",
    "            del self._notas[asignatura]\n",
    "        else:\n",
    "            print(f\"El alumno '{self.nombre}' NO está matriculado en '{asignatura}'\")\n",
    "\n",
    "    def califica_asignatura(self, asignatura: str, nota: float):\n",
    "        if asignatura not in self._notas:\n",
    "            print(f\"El alumno '{self.nombre}' NO está matriculado en '{asignatura}'\")\n",
    "        elif not isinstance(nota, (int, float)) or not 0.0 <= nota <= 10.0:\n",
    "            raise ValueError(\"La nota debe ser un valor real entre 0.0 y 10.0\")\n",
    "        else:\n",
    "            self._notas[asignatura] = nota\n",
    "\n",
    "    def nota_asignatura(self, asignatura: str) -> float:\n",
    "        if asignatura not in self._notas:\n",
    "            print(f\"El alumno '{self.nombre}' NO está matriculado en '{asignatura}'\")\n",
    "            return None\n",
    "        elif self._notas[asignatura] is None:\n",
    "            print(f\"El alumno '{self.nombre}' NO ha sido calificado en '{asignatura}'\")\n",
    "            return None\n",
    "        else:\n",
    "            return self._notas[asignatura]\n",
    "\n",
    "class Profesor(Persona):\n",
    "    def __init__(self, nombre, edad=18):\n",
    "        super().__init__(nombre, edad)\n",
    "        self._asignaturas: List[str] = []\n",
    "\n",
    "    @property\n",
    "    def asignaturas(self) -> List[str]:\n",
    "        return sorted(self._asignaturas)\n",
    "\n",
    "    @property\n",
    "    def num_asignaturas(self) -> int:\n",
    "        return len(self._asignaturas)\n",
    "\n",
    "    def imparte_asignatura(self, asignatura: str):\n",
    "        if asignatura in self._asignaturas:\n",
    "            print(f\"El profesor '{self.nombre}' YA imparte '{asignatura}'\")\n",
    "        else:\n",
    "            self._asignaturas.append(asignatura)\n",
    "\n",
    "    def elimina_asignatura(self, asignatura: str):\n",
    "        if asignatura in self._asignaturas:\n",
    "            self._asignaturas.remove(asignatura)\n",
    "        else:\n",
    "            print(f\"El profesor '{self.nombre}' NO imparte '{asignatura}'\")\n",
    "            \n",
    "# test\n",
    "alumno = Alumno(\"Juan\")\n",
    "print(alumno.nombre)\n",
    "print(alumno.edad)\n",
    "alumno.edad = 20\n",
    "print(alumno.edad)\n",
    "\n",
    "alumno.matricula_asignatura(\"Matemáticas\")\n",
    "alumno.matricula_asignatura(\"Lengua\")\n",
    "print(alumno.notas)\n",
    "alumno.califica_asignatura(\"Matemáticas\", 6.5)\n",
    "alumno.califica_asignatura(\"Lengua\", 7.5)\n",
    "print(alumno.notas)\n",
    "\n",
    "profesor = Profesor(\"Luis\")\n",
    "profesor.imparte_asignatura(\"Matematicas\")\n",
    "profesor.imparte_asignatura(\"Lengua\")\n",
    "print(profesor.asignaturas)\n",
    "print(profesor.num_asignaturas)\n",
    "profesor.elimina_asignatura(\"Matematicas\")\n",
    "print(profesor.asignaturas)\n"
   ]
  }
 ],
 "metadata": {
  "kernelspec": {
   "display_name": "Python 3 (ipykernel)",
   "language": "python",
   "name": "python3"
  },
  "language_info": {
   "codemirror_mode": {
    "name": "ipython",
    "version": 3
   },
   "file_extension": ".py",
   "mimetype": "text/x-python",
   "name": "python",
   "nbconvert_exporter": "python",
   "pygments_lexer": "ipython3",
   "version": "3.8.18"
  },
  "toc": {
   "base_numbering": 1,
   "nav_menu": {},
   "number_sections": true,
   "sideBar": true,
   "skip_h1_title": false,
   "title_cell": "Tabla de contenidos",
   "title_sidebar": "Contents",
   "toc_cell": true,
   "toc_position": {
    "height": "calc(100% - 180px)",
    "left": "10px",
    "top": "150px",
    "width": "462.35px"
   },
   "toc_section_display": true,
   "toc_window_display": true
  }
 },
 "nbformat": 4,
 "nbformat_minor": 5
}
