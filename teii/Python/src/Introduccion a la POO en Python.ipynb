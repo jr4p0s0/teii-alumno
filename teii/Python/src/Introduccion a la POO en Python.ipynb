{
 "cells": [
  {
   "cell_type": "markdown",
   "id": "organic-nursing",
   "metadata": {},
   "source": [
    "# Introducción a la POO en Python"
   ]
  },
  {
   "cell_type": "markdown",
   "id": "large-medium",
   "metadata": {},
   "source": [
    "## Clases"
   ]
  },
  {
   "cell_type": "markdown",
   "id": "judicial-third",
   "metadata": {},
   "source": [
    "Python no sólo es un lenguaje de *scripting* muy popular, sino que también soporta el paradigma de la programación orientada a objetos. Las clases describen datos y proporcionan métodos para manipular esos datos, todo ello englobado en instancias u objetos. Además, las clases permiten la abstracción al separar los detalles de implementación concretos de las representaciones abstractas de los datos."
   ]
  },
  {
   "cell_type": "code",
   "execution_count": 4,
   "id": "extended-population",
   "metadata": {
    "tags": []
   },
   "outputs": [],
   "source": [
    "class Persona(object):\n",
    "    \"\"\" Una clase sencilla. \"\"\"   # esto es un docstring\n",
    "    especie = \"Homo Sapiens\"   # atributo de clase compartido entre todas las instancias\n",
    "    \n",
    "    def __init__(self, nombre):   # método mágico (dunder method)\n",
    "        \"\"\" Este es el inicializador. \"\"\"\n",
    "        self.nombre = nombre   # atributo de instancia diferente para cada objeto\n",
    "        \n",
    "    def __str__(self):   # método mágico (dunder method)\n",
    "        \"\"\" Este método lo usa Python cuando necesita imprimir el objeto como una cadena.\n",
    "        Por ejemplo, lo usa la función print(). \"\"\"\n",
    "        return self.nombre\n",
    "\n",
    "    def __repr__(self):   # método mágico (dunder method)\n",
    "        \"\"\" Este método lo usa Python cuando necesita representar objeto como una cadena.\n",
    "        La cadena resultante se puede ejecutar o evaluar. \"\"\"\n",
    "        return f\"{__class__.__name__}({self.nombre})\"\n",
    "\n",
    "    def rename(self, nuevo_nombre):   # método común\n",
    "        \"\"\" Reasigna el nombre y lo imprime. \"\"\"\n",
    "        self.nombre = nuevo_nombre\n",
    "        print(f\"Ahora me llamo {self.nombre}\")"
   ]
  },
  {
   "cell_type": "markdown",
   "id": "front-agreement",
   "metadata": {},
   "source": [
    "Hay algunos aspectos importantes que hay que tener en cuenta en el ejemplo anterior.\n",
    "\n",
    "1. La clase está formada por atributos y métodos.\n",
    "2. Los atributos y los métodos se definen simplemente como variables y funciones normales.\n",
    "3. Como se indica en el *docstring* correspondiente, el método ``__init__()`` se llama inicializador, equivale al constructor de otros lenguajes de programación orientados a objetos, y es el método que se ejecuta por primera vez cuando se crea una nueva instancia (objecto) de la clase.\n",
    "4. Los atributos que se aplican a toda la clase se definen primero y se llaman **atributos de clase**.\n",
    "5. Los atributos que se aplican a una instancia específica de una clase (objeto) se llaman **atributos de instancia**. Se definen generalmente dentro de ``__init__()``. Esto no es necesario, pero se recomienda (los atributos definidos en otros métodos distintos de ``__init__()`` corren el riesgo de ser accedidos antes de ser definidos).\n",
    "6. Cada método, incluido en la definición de la clase, pasa el objeto en cuestión como su primer parámetro. Para ello, se utiliza palabra clave ``self``. El uso de ``self`` es en realidad una convención, ya que la palabra self no tiene ningún significado inherente en Python, pero esta es una de las convenciones más respetadas de Python.\n",
    "7. En Python **no existen los elementos privados**, por lo que todo, por defecto, imita el comportamiento de la palabra clave public de C++/Java. Hablaremos de estos elementos más adelante.\n",
    "8. Algunos de los métodos de la clase tienen la siguiente forma ``__nombre_de_función__(self, ...)``. Todos estos métodos se llaman **métodos mágicos** o ***dunder methods***, y son una parte importante de las clases en Python. Por ejemplo, la sobrecarga de operadores en Python se implementa con métodos mágicos.\n",
    "\n",
    "Tras definir la clase, creamos algunas instancias de nuestra clase Persona."
   ]
  },
  {
   "cell_type": "code",
   "execution_count": 5,
   "id": "competitive-conjunction",
   "metadata": {
    "tags": []
   },
   "outputs": [],
   "source": [
    "juan = Persona(\"Juan\")\n",
    "jose = Persona(\"Jose\")"
   ]
  },
  {
   "cell_type": "markdown",
   "id": "weird-finder",
   "metadata": {},
   "source": [
    "En este momento, tenemos tres instancias de Persona. Podemos acceder a sus atributos con el operador punto `.`. Observa la diferencia entre los atributos de clase y los de instancia."
   ]
  },
  {
   "cell_type": "code",
   "execution_count": 6,
   "id": "greatest-germany",
   "metadata": {
    "tags": []
   },
   "outputs": [
    {
     "data": {
      "text/plain": [
       "'Homo Sapiens'"
      ]
     },
     "execution_count": 6,
     "metadata": {},
     "output_type": "execute_result"
    }
   ],
   "source": [
    "juan.especie"
   ]
  },
  {
   "cell_type": "code",
   "execution_count": 7,
   "id": "flying-middle",
   "metadata": {
    "tags": []
   },
   "outputs": [
    {
     "data": {
      "text/plain": [
       "'Homo Sapiens'"
      ]
     },
     "execution_count": 7,
     "metadata": {},
     "output_type": "execute_result"
    }
   ],
   "source": [
    "jose.especie"
   ]
  },
  {
   "cell_type": "code",
   "execution_count": 8,
   "id": "expected-imperial",
   "metadata": {
    "tags": []
   },
   "outputs": [
    {
     "data": {
      "text/plain": [
       "'Juan'"
      ]
     },
     "execution_count": 8,
     "metadata": {},
     "output_type": "execute_result"
    }
   ],
   "source": [
    "juan.nombre"
   ]
  },
  {
   "cell_type": "code",
   "execution_count": 9,
   "id": "challenging-banana",
   "metadata": {
    "tags": []
   },
   "outputs": [
    {
     "data": {
      "text/plain": [
       "'Jose'"
      ]
     },
     "execution_count": 9,
     "metadata": {},
     "output_type": "execute_result"
    }
   ],
   "source": [
    "jose.nombre"
   ]
  },
  {
   "cell_type": "markdown",
   "id": "authentic-pattern",
   "metadata": {},
   "source": [
    "También podemos usar el operador `.` para ejecutar los métodos:"
   ]
  },
  {
   "cell_type": "code",
   "execution_count": 10,
   "id": "grateful-costa",
   "metadata": {
    "tags": []
   },
   "outputs": [
    {
     "data": {
      "text/plain": [
       "'Juan'"
      ]
     },
     "execution_count": 10,
     "metadata": {},
     "output_type": "execute_result"
    }
   ],
   "source": [
    "juan.__str__()"
   ]
  },
  {
   "cell_type": "code",
   "execution_count": 11,
   "id": "a5024cf6",
   "metadata": {},
   "outputs": [
    {
     "data": {
      "text/plain": [
       "'Persona(Juan)'"
      ]
     },
     "execution_count": 11,
     "metadata": {},
     "output_type": "execute_result"
    }
   ],
   "source": [
    "juan.__repr__()"
   ]
  },
  {
   "cell_type": "code",
   "execution_count": 12,
   "id": "corrected-technology",
   "metadata": {
    "tags": []
   },
   "outputs": [
    {
     "name": "stdout",
     "output_type": "stream",
     "text": [
      "Juan\n"
     ]
    }
   ],
   "source": [
    "print(juan)  # equivale a juan.__str__"
   ]
  },
  {
   "cell_type": "code",
   "execution_count": 13,
   "id": "celtic-august",
   "metadata": {
    "tags": []
   },
   "outputs": [
    {
     "name": "stdout",
     "output_type": "stream",
     "text": [
      "Ahora me llamo Juan José\n"
     ]
    }
   ],
   "source": [
    "juan.rename(\"Juan José\")"
   ]
  },
  {
   "cell_type": "markdown",
   "id": "protected-switch",
   "metadata": {},
   "source": [
    "En Python 3, para declarar un método de una clase, se utiliza la palabra clave ``def``, creando así un objeto función. Se trata de una función normal, y la clase que la rodea funciona como su espacio de nombres. En el siguiente ejemplo declaramos el método ``f`` dentro de la clase ``A`` que se convierte en una función ``A.f``:"
   ]
  },
  {
   "cell_type": "code",
   "execution_count": 14,
   "id": "absent-capture",
   "metadata": {
    "tags": []
   },
   "outputs": [],
   "source": [
    "class A(object):\n",
    "    def f(self, x):\n",
    "        return 2 * x"
   ]
  },
  {
   "cell_type": "code",
   "execution_count": 15,
   "id": "north-montgomery",
   "metadata": {
    "tags": []
   },
   "outputs": [
    {
     "data": {
      "text/plain": [
       "<function __main__.A.f(self, x)>"
      ]
     },
     "execution_count": 15,
     "metadata": {},
     "output_type": "execute_result"
    }
   ],
   "source": [
    "A.f"
   ]
  },
  {
   "cell_type": "markdown",
   "id": "professional-gossip",
   "metadata": {
    "tags": []
   },
   "source": [
    "Ahora supongamos que ``a`` es una instancia de la clase ``A``, ¿qué es entonces `a.f`? Intuitivamente debería ser el mismo método ``f`` de la clase ``A``, solo que debería \"saber\" de alguna manera que se aplica al objeto ``a``. En Python a esto se le llama método **vinculado** al objeto ``a`` de la clase ``A``."
   ]
  },
  {
   "cell_type": "code",
   "execution_count": 16,
   "id": "mysterious-relationship",
   "metadata": {
    "tags": []
   },
   "outputs": [
    {
     "name": "stdout",
     "output_type": "stream",
     "text": [
      "<bound method A.f of <__main__.A object at 0x7ecce557c9d0>>\n"
     ]
    }
   ],
   "source": [
    "a = A()\n",
    "print(a.f)"
   ]
  },
  {
   "cell_type": "code",
   "execution_count": 17,
   "id": "challenging-kingdom",
   "metadata": {
    "tags": []
   },
   "outputs": [
    {
     "data": {
      "text/plain": [
       "4"
      ]
     },
     "execution_count": 17,
     "metadata": {},
     "output_type": "execute_result"
    }
   ],
   "source": [
    "a.f(2)"
   ]
  },
  {
   "cell_type": "markdown",
   "id": "e39472a3",
   "metadata": {},
   "source": [
    "Aqui vemos el método \"\\_\\_dict\\_\\_\", que nos muestra los atributos de la clase o del objeto"
   ]
  },
  {
   "cell_type": "code",
   "execution_count": 18,
   "id": "nasty-convergence",
   "metadata": {
    "tags": []
   },
   "outputs": [
    {
     "data": {
      "text/plain": [
       "{}"
      ]
     },
     "execution_count": 18,
     "metadata": {},
     "output_type": "execute_result"
    }
   ],
   "source": [
    "a.__dict__   # no tiene métodos definidos en el objeto"
   ]
  },
  {
   "cell_type": "markdown",
   "id": "c5d441f8",
   "metadata": {},
   "source": [
    "Vemos como el método f() no está en el diccionario de a, pero si está en el diccionario de A."
   ]
  },
  {
   "cell_type": "code",
   "execution_count": 19,
   "id": "descending-possibility",
   "metadata": {
    "tags": []
   },
   "outputs": [
    {
     "data": {
      "text/plain": [
       "mappingproxy({'__module__': '__main__',\n",
       "              'f': <function __main__.A.f(self, x)>,\n",
       "              '__dict__': <attribute '__dict__' of 'A' objects>,\n",
       "              '__weakref__': <attribute '__weakref__' of 'A' objects>,\n",
       "              '__doc__': None})"
      ]
     },
     "execution_count": 19,
     "metadata": {},
     "output_type": "execute_result"
    }
   ],
   "source": [
    "A.__dict__   # el método f se define en la clase"
   ]
  },
  {
   "cell_type": "markdown",
   "id": "proprietary-linux",
   "metadata": {},
   "source": [
    "Por último, Python tiene dos tipos especiales de métodos: **métodos de clase** y **métodos estáticos**. Los métodos de clase funcionan de la misma manera que los métodos normales, excepto que cuando se invocan sobre un objeto se vinculan a la clase del objeto en lugar de al objeto. Cuando se llama a un método de clase vinculado, se pasa la clase como primer argumento. Los métodos estáticos son aún más simples: no vinculan nada en absoluto, y simplemente devuelven la función subyacente sin ninguna transformación."
   ]
  },
  {
   "cell_type": "code",
   "execution_count": 20,
   "id": "wooden-story",
   "metadata": {
    "tags": []
   },
   "outputs": [],
   "source": [
    "class B(object):\n",
    "    multiplicador = 2\n",
    "    \n",
    "    @classmethod   # esto es un decorador, después hablaremos de ellos\n",
    "    def f(cls, x):\n",
    "        return cls.multiplicador * x\n",
    "    \n",
    "    @staticmethod   # esto es otro decorador, después hablaremos de ellos\n",
    "    def g(nombre):\n",
    "        print(f\"Hola, {nombre}!\")"
   ]
  },
  {
   "cell_type": "code",
   "execution_count": 21,
   "id": "comprehensive-roller",
   "metadata": {
    "tags": []
   },
   "outputs": [
    {
     "data": {
      "text/plain": [
       "<bound method B.f of <class '__main__.B'>>"
      ]
     },
     "execution_count": 21,
     "metadata": {},
     "output_type": "execute_result"
    }
   ],
   "source": [
    "B.f"
   ]
  },
  {
   "cell_type": "code",
   "execution_count": 22,
   "id": "postal-theology",
   "metadata": {
    "tags": []
   },
   "outputs": [
    {
     "data": {
      "text/plain": [
       "4"
      ]
     },
     "execution_count": 22,
     "metadata": {},
     "output_type": "execute_result"
    }
   ],
   "source": [
    "B.f(2)"
   ]
  },
  {
   "cell_type": "code",
   "execution_count": 23,
   "id": "dependent-image",
   "metadata": {
    "tags": []
   },
   "outputs": [
    {
     "data": {
      "text/plain": [
       "<function __main__.B.g(nombre)>"
      ]
     },
     "execution_count": 23,
     "metadata": {},
     "output_type": "execute_result"
    }
   ],
   "source": [
    "B.g"
   ]
  },
  {
   "cell_type": "code",
   "execution_count": 24,
   "id": "collectible-ordering",
   "metadata": {
    "tags": []
   },
   "outputs": [
    {
     "name": "stdout",
     "output_type": "stream",
     "text": [
      "Hola, TEII!\n"
     ]
    }
   ],
   "source": [
    "B.g(\"TEII\")"
   ]
  },
  {
   "cell_type": "markdown",
   "id": "latin-tender",
   "metadata": {},
   "source": [
    "Como puedes comprobar tanto los métodos de clase como los métodos estáticos están vinculados a la clase, no al objeto, y funcionan aunque se llamen a través de una instancia de la clase."
   ]
  },
  {
   "cell_type": "code",
   "execution_count": 25,
   "id": "cathedral-jackson",
   "metadata": {
    "tags": []
   },
   "outputs": [
    {
     "data": {
      "text/plain": [
       "(2, 200)"
      ]
     },
     "execution_count": 25,
     "metadata": {},
     "output_type": "execute_result"
    }
   ],
   "source": [
    "b = B()\n",
    "b.multiplicador = 200\n",
    "(B.multiplicador, b.multiplicador)   # ¿por qué ha cambiado el valor de multiplicador en 'b' pero no en B? "
   ]
  },
  {
   "cell_type": "code",
   "execution_count": 26,
   "id": "offshore-junior",
   "metadata": {
    "tags": []
   },
   "outputs": [
    {
     "data": {
      "text/plain": [
       "<bound method B.f of <class '__main__.B'>>"
      ]
     },
     "execution_count": 26,
     "metadata": {},
     "output_type": "execute_result"
    }
   ],
   "source": [
    "b.f"
   ]
  },
  {
   "cell_type": "code",
   "execution_count": 27,
   "id": "acceptable-longitude",
   "metadata": {
    "tags": []
   },
   "outputs": [
    {
     "data": {
      "text/plain": [
       "20"
      ]
     },
     "execution_count": 27,
     "metadata": {},
     "output_type": "execute_result"
    }
   ],
   "source": [
    "b.f(10)   # fíjate que sigue usando el multiplicador de B que es 2, aunque el multiplicador de 'b' sea 200"
   ]
  },
  {
   "cell_type": "markdown",
   "id": "626bd069-5138-43dc-a4dd-dbbb24ff7be0",
   "metadata": {},
   "source": [
    "**Ejercicio**: ¿Cuál sería el resultado de `b.f(10)` si asignamos 400 a `B.multiplicador`?"
   ]
  },
  {
   "cell_type": "code",
   "execution_count": 28,
   "id": "f441b692-5445-4956-b435-a8766bbad3f3",
   "metadata": {
    "tags": []
   },
   "outputs": [
    {
     "data": {
      "text/plain": [
       "4000"
      ]
     },
     "execution_count": 28,
     "metadata": {},
     "output_type": "execute_result"
    }
   ],
   "source": [
    "# Solución\n",
    "\n",
    "B.multiplicador = 400\n",
    "b.f(10)\n",
    "\n",
    "\n"
   ]
  },
  {
   "cell_type": "markdown",
   "id": "occasional-circuit",
   "metadata": {},
   "source": [
    "## Decoradores"
   ]
  },
  {
   "cell_type": "markdown",
   "id": "vertical-workstation",
   "metadata": {},
   "source": [
    "Un decorador con la forma ``@midecorador`` que precede a la definición de la función `mifuncion` es lo mismo que ``mifuncion = midecorador(mifuncion)``:"
   ]
  },
  {
   "cell_type": "markdown",
   "id": "educational-mandate",
   "metadata": {},
   "source": [
    "```python\n",
    "@midecorador\n",
    "def mifuncion(self):\n",
    "    pass\n",
    "````\n",
    "\n",
    "es lo mismo que\n",
    "\n",
    "```python\n",
    "def mifuncion(self):\n",
    "    pass\n",
    "\n",
    "mifuncion = midecorador(mifuncion)\n",
    "```"
   ]
  },
  {
   "cell_type": "markdown",
   "id": "tribal-process",
   "metadata": {},
   "source": [
    "Aunque no los estudiaremos en detalle, sí que es interesante saber que se usan para cambiar el comportamiento de una función sin cambiar su código, lo que es muy interesante en algunos casos. Por ejemplo, supongamos que queremos alterar cualquier función que no recibe parámetros e imprime un mensaje, para que se imprima algo antes y después. Entonces haríamos lo siguiente:"
   ]
  },
  {
   "cell_type": "code",
   "execution_count": 29,
   "id": "polish-andrew",
   "metadata": {
    "tags": []
   },
   "outputs": [],
   "source": [
    "def midecorador(mifuncion_decorada):\n",
    "    def _midecorador():\n",
    "        print('Antes de la ejecución de la función a decorar')\n",
    "        mifuncion_decorada()\n",
    "        print('Después de la ejecución de la función a decorar')\n",
    "\n",
    "    return _midecorador"
   ]
  },
  {
   "cell_type": "code",
   "execution_count": 30,
   "id": "second-marker",
   "metadata": {
    "tags": []
   },
   "outputs": [],
   "source": [
    "@midecorador\n",
    "def saludar():\n",
    "    print('Hola, mundo!')"
   ]
  },
  {
   "cell_type": "code",
   "execution_count": 31,
   "id": "excess-rider",
   "metadata": {
    "tags": []
   },
   "outputs": [
    {
     "name": "stdout",
     "output_type": "stream",
     "text": [
      "Antes de la ejecución de la función a decorar\n",
      "Hola, mundo!\n",
      "Después de la ejecución de la función a decorar\n"
     ]
    }
   ],
   "source": [
    "saludar()"
   ]
  },
  {
   "cell_type": "markdown",
   "id": "dcae15c5-ff46-408f-843c-b354da75118c",
   "metadata": {},
   "source": [
    "**Ejercicio**: Modifica el decorador `@midecorador` para que funcione correctamente con la función `saludar(sujeto)` reciba como parámetro una cadena de caracteres que indique a quién saludar. En la sección de referencias encontrarás un enlace sobre decoradores que detalla como hacerlo."
   ]
  },
  {
   "cell_type": "code",
   "execution_count": 32,
   "id": "8a4a23a5-095b-4b6d-91ae-0077950b934a",
   "metadata": {
    "tags": []
   },
   "outputs": [
    {
     "name": "stdout",
     "output_type": "stream",
     "text": [
      "Antes de la ejecución de la función a decorar\n",
      "Hola, TEII!\n",
      "Después de la ejecución de la función a decorar\n"
     ]
    }
   ],
   "source": [
    "# Solución\n",
    "\n",
    "def midecorador(func):\n",
    "    \n",
    "    def _midecorador(*args, **kwargs):\n",
    "        print('Antes de la ejecución de la función a decorar')\n",
    "        func(*args, **kwargs)\n",
    "        print('Después de la ejecución de la función a decorar')\n",
    "\n",
    "    return _midecorador\n",
    "\n",
    "@midecorador\n",
    "def saludar(sujeto):\n",
    "    print(f'Hola, {sujeto}!')\n",
    "    \n",
    "saludar('TEII')"
   ]
  },
  {
   "cell_type": "markdown",
   "id": "33989dc7-8b4f-438c-9be0-3a42717d7616",
   "metadata": {},
   "source": [
    "**Ejercicio**: Escribe un decorador `@mitiempo` que mida el tiempo de ejecución de una función. Construye el decorador a partir de la función [time.time()](https://docs.python.org/3/library/time.html#time.time). Puedes simular una función que necesite `s` segundos para ejecutarse con [time.sleep(s)](https://docs.python.org/3/library/time.html#time.sleep)."
   ]
  },
  {
   "cell_type": "code",
   "execution_count": 33,
   "id": "7867542d-69b0-4ff7-8ccf-a92a9fd13fc9",
   "metadata": {
    "tags": []
   },
   "outputs": [
    {
     "name": "stdout",
     "output_type": "stream",
     "text": [
      "La función pruebaSleep ha tardado 2.002215623855591 segundos\n"
     ]
    }
   ],
   "source": [
    "# Solución\n",
    "import time\n",
    "\n",
    "def mitiempo(func):\n",
    "    \n",
    "    def _mitiempo(*args, **kwargs):\n",
    "        inicio = time.time()\n",
    "        func(*args, **kwargs)\n",
    "        fin = time.time()\n",
    "        print(f\"La función {func.__name__} ha tardado {fin - inicio} segundos\")\n",
    "\n",
    "    return _mitiempo\n",
    "\n",
    "@mitiempo\n",
    "def pruebaSleep(segs):\n",
    "    time.sleep(segs)\n",
    "\n",
    "pruebaSleep(2)"
   ]
  },
  {
   "cell_type": "markdown",
   "id": "agreed-architecture",
   "metadata": {},
   "source": [
    "## Herencia básica"
   ]
  },
  {
   "cell_type": "markdown",
   "id": "informational-worst",
   "metadata": {},
   "source": [
    "La herencia en Python es similar a la de otros lenguajes como Java."
   ]
  },
  {
   "cell_type": "code",
   "execution_count": 34,
   "id": "secret-drain",
   "metadata": {
    "tags": []
   },
   "outputs": [],
   "source": [
    "class ClaseBase(object):\n",
    "    pass\n",
    "\n",
    "class ClaseDerivada(ClaseBase):\n",
    "    pass"
   ]
  },
  {
   "cell_type": "markdown",
   "id": "capable-recognition",
   "metadata": {},
   "source": [
    "Por ejemplo:"
   ]
  },
  {
   "cell_type": "code",
   "execution_count": 35,
   "id": "elder-texas",
   "metadata": {
    "tags": []
   },
   "outputs": [],
   "source": [
    "class Rectangulo():   # si no se pone object, se hereda implícitamente de él\n",
    "    def __init__(self, w, h):\n",
    "        self.w = w\n",
    "        self.h = h\n",
    "\n",
    "    def area(self):\n",
    "        return self.w * self.h\n",
    "\n",
    "    def perimetro(self):\n",
    "        return 2 * (self.w + self.h)"
   ]
  },
  {
   "cell_type": "markdown",
   "id": "based-craps",
   "metadata": {},
   "source": [
    "La clase `Rectangulo` puede usarse como clase base para una clase heredada llamada `Cuadrado`, que es un caso especial de rectángulo."
   ]
  },
  {
   "cell_type": "code",
   "execution_count": 36,
   "id": "instructional-bearing",
   "metadata": {
    "tags": []
   },
   "outputs": [],
   "source": [
    "class Cuadrado(Rectangulo):\n",
    "    def __init__(self, s):\n",
    "        super().__init__(s, s)   # llama al inicializador del padre\n",
    "        self.s = s"
   ]
  },
  {
   "cell_type": "markdown",
   "id": "silent-storage",
   "metadata": {},
   "source": [
    "La clase ``Cuadrado`` hereda automáticamente todos los atributos y métodos de la clase ``Rectangulo``. ``object``. ``super()`` se utiliza para llamar al método ``__init__()`` de la clase ``Rectangulo`` porque el método `__init__` también está definido en la clase `Cuadrado`.\n",
    "\n",
    "Los objetos de clases derivadas pueden acceder y modificar los atributos de sus clases base."
   ]
  },
  {
   "cell_type": "code",
   "execution_count": 37,
   "id": "eastern-runner",
   "metadata": {
    "tags": []
   },
   "outputs": [
    {
     "name": "stdout",
     "output_type": "stream",
     "text": [
      "20\n",
      "18\n"
     ]
    }
   ],
   "source": [
    "r = Rectangulo(4, 5)\n",
    "print(r.area())\n",
    "print(r.perimetro())"
   ]
  },
  {
   "cell_type": "code",
   "execution_count": 38,
   "id": "regional-confidence",
   "metadata": {
    "tags": []
   },
   "outputs": [
    {
     "name": "stdout",
     "output_type": "stream",
     "text": [
      "4\n",
      "8\n"
     ]
    }
   ],
   "source": [
    "c = Cuadrado(2)\n",
    "print(c.area())\n",
    "print(c.perimetro())"
   ]
  },
  {
   "cell_type": "markdown",
   "id": "stretch-trouble",
   "metadata": {},
   "source": [
    "Existen unas funciones de Python que nos permiten consultar las relaciones de herencia entre clases.\n",
    "\n",
    "- ``issubclass(ClaseDerivada, ClaseBase)`` devuelve ``True`` si la primera es una subclase de la segunda\n",
    "- ``isinstance(o, C)`` devuelve ``True`` si el objeto `o` es una instancia de la clase `C`"
   ]
  },
  {
   "cell_type": "code",
   "execution_count": 39,
   "id": "municipal-documentation",
   "metadata": {
    "tags": []
   },
   "outputs": [
    {
     "data": {
      "text/plain": [
       "True"
      ]
     },
     "execution_count": 39,
     "metadata": {},
     "output_type": "execute_result"
    }
   ],
   "source": [
    "issubclass(Cuadrado, Rectangulo)"
   ]
  },
  {
   "cell_type": "code",
   "execution_count": 40,
   "id": "little-arabic",
   "metadata": {
    "tags": []
   },
   "outputs": [
    {
     "data": {
      "text/plain": [
       "True"
      ]
     },
     "execution_count": 40,
     "metadata": {},
     "output_type": "execute_result"
    }
   ],
   "source": [
    "isinstance(r, Rectangulo)"
   ]
  },
  {
   "cell_type": "code",
   "execution_count": 41,
   "id": "afraid-function",
   "metadata": {
    "tags": []
   },
   "outputs": [
    {
     "data": {
      "text/plain": [
       "False"
      ]
     },
     "execution_count": 41,
     "metadata": {},
     "output_type": "execute_result"
    }
   ],
   "source": [
    "isinstance(r, Cuadrado)"
   ]
  },
  {
   "cell_type": "code",
   "execution_count": 42,
   "id": "emerging-halifax",
   "metadata": {
    "tags": []
   },
   "outputs": [
    {
     "data": {
      "text/plain": [
       "True"
      ]
     },
     "execution_count": 42,
     "metadata": {},
     "output_type": "execute_result"
    }
   ],
   "source": [
    "isinstance(c, Cuadrado)"
   ]
  },
  {
   "cell_type": "code",
   "execution_count": 43,
   "id": "injured-century",
   "metadata": {
    "tags": []
   },
   "outputs": [
    {
     "data": {
      "text/plain": [
       "True"
      ]
     },
     "execution_count": 43,
     "metadata": {},
     "output_type": "execute_result"
    }
   ],
   "source": [
    "isinstance(c, Rectangulo)   # un cuadrado es también un rectángulo"
   ]
  },
  {
   "cell_type": "markdown",
   "id": "intended-secretariat",
   "metadata": {},
   "source": [
    "## *Monkey Patching*\n",
    "\n",
    "Esta expresión significa añadir un nuevo atributo o método a una clase una vez que ya está definida. Por ejemplo, supongamos que definimos la siguiente clase C."
   ]
  },
  {
   "cell_type": "code",
   "execution_count": 44,
   "id": "unsigned-season",
   "metadata": {
    "tags": []
   },
   "outputs": [],
   "source": [
    "class C():\n",
    "    def __init__(self, num):\n",
    "        self.num = num\n",
    "\n",
    "    def suma(self, other):\n",
    "        return self.num + other.num"
   ]
  },
  {
   "cell_type": "code",
   "execution_count": 45,
   "id": "fifty-minister",
   "metadata": {
    "tags": []
   },
   "outputs": [
    {
     "name": "stdout",
     "output_type": "stream",
     "text": [
      "9\n"
     ]
    }
   ],
   "source": [
    "c1 = C(4)\n",
    "c2 = C(5)\n",
    "print(c1.suma(c2));"
   ]
  },
  {
   "cell_type": "markdown",
   "id": "circular-garlic",
   "metadata": {},
   "source": [
    "Pero ahora queremos añadir la siguiente función en nuestro código:\n"
   ]
  },
  {
   "cell_type": "code",
   "execution_count": 46,
   "id": "conscious-source",
   "metadata": {
    "tags": []
   },
   "outputs": [],
   "source": [
    "def get_num(self):\n",
    "    return self.num"
   ]
  },
  {
   "cell_type": "markdown",
   "id": "experimental-happiness",
   "metadata": {},
   "source": [
    "¿Cómo podemos añadir este método a la clase C? Pues sencillamente asignándoselo directamente."
   ]
  },
  {
   "cell_type": "markdown",
   "id": "excessive-hampshire",
   "metadata": {},
   "source": [
    "``C.get_num = get_num``"
   ]
  },
  {
   "cell_type": "markdown",
   "id": "united-hawaii",
   "metadata": {},
   "source": [
    "¿Por qué funciona esto? Pues porque las funciones son objetos como cualquier otro objeto y los métodos no son más que funciones que pertenecen a una clase. La función `get_num()` estará disponible para todas las instancias de C ya creadas y las que se creen a partir de ahora."
   ]
  },
  {
   "cell_type": "code",
   "execution_count": 47,
   "id": "theoretical-third",
   "metadata": {
    "tags": []
   },
   "outputs": [
    {
     "name": "stdout",
     "output_type": "stream",
     "text": [
      "42\n",
      "6\n"
     ]
    }
   ],
   "source": [
    "foo = C(42)\n",
    "C.get_num = get_num\n",
    "bar = C(6)\n",
    "print(foo.get_num())\n",
    "print(bar.get_num())"
   ]
  },
  {
   "cell_type": "markdown",
   "id": "endangered-heritage",
   "metadata": {},
   "source": [
    "Esta técnica no es considerada un buen estilo de programación pero ayuda a entender la flexibilidad que tiene Python a la hora de alterar el propio código. Veremos más adelante que hay una excepción, la utilización de *monkey patching* para imitar el comportamiento de un objecto (***mocking***) durante la ejecución de tests o pruebas para garantizar su reproducibilidad."
   ]
  },
  {
   "cell_type": "markdown",
   "id": "fcd3752d-143a-4e14-9746-424b48aff48f",
   "metadata": {},
   "source": [
    "Por otro lado, hay que tener mucho cuidado con los efectos indeseados que podría tener esta técnica (sobre todo si no se usa un IDE para editar el código). Por ejemplo, si queremos modificar el atributo `atributo` del objeto `foo` con ``foo.atributo = 4``, pero nos equivocamos y ponemos ``foo.atibuto = 4`` en su lugar, se creará un nuevo atributo llamado ``atibuto`` en el objeto `foo`, y resultará muy difícil encontrar el fallo si no somos muy meticulosos al revisar el código. "
   ]
  },
  {
   "cell_type": "markdown",
   "id": "realistic-detective",
   "metadata": {},
   "source": [
    "## Propiedades"
   ]
  },
  {
   "cell_type": "markdown",
   "id": "collect-effectiveness",
   "metadata": {},
   "source": [
    "Las clases Python soportan **propiedades** que parecen atributos normales, pero que realmente tienen métodos asociados que devuelven o asignan el valor de dicho atributo."
   ]
  },
  {
   "cell_type": "code",
   "execution_count": 48,
   "id": "immediate-arizona",
   "metadata": {
    "tags": []
   },
   "outputs": [],
   "source": [
    "class D(object):\n",
    "    def __init__(self):\n",
    "        self._my_string = \"\"   # al comenzar por _, se indica que _my_string se considera un atributo privado\n",
    "    \n",
    "    @property\n",
    "    def string(self):\n",
    "        \"\"\" Una cadena enormemente importante. \"\"\"\n",
    "        return self._my_string\n",
    "    \n",
    "    @string.setter\n",
    "    def string(self, new_value):\n",
    "        assert isinstance(new_value, str), f\"¡Dame una cadena, no un {type(new_value)}!\"\n",
    "        self._my_string = new_value"
   ]
  },
  {
   "cell_type": "markdown",
   "id": "urban-mistake",
   "metadata": {},
   "source": [
    "Los objetos de la clase `D` parecerá que tienen un atributo (propiedad) ``string`` pero su comportamiento estará controlado por nosotros."
   ]
  },
  {
   "cell_type": "code",
   "execution_count": 49,
   "id": "green-kazakhstan",
   "metadata": {
    "tags": []
   },
   "outputs": [],
   "source": [
    "d = D()"
   ]
  },
  {
   "cell_type": "code",
   "execution_count": 50,
   "id": "weekly-whale",
   "metadata": {
    "tags": []
   },
   "outputs": [
    {
     "data": {
      "text/plain": [
       "{'_my_string': ''}"
      ]
     },
     "execution_count": 50,
     "metadata": {},
     "output_type": "execute_result"
    }
   ],
   "source": [
    "d.__dict__"
   ]
  },
  {
   "cell_type": "code",
   "execution_count": 51,
   "id": "9e1f5f14-a174-48ec-aa14-d13e0c000433",
   "metadata": {
    "tags": []
   },
   "outputs": [
    {
     "data": {
      "text/plain": [
       "''"
      ]
     },
     "execution_count": 51,
     "metadata": {},
     "output_type": "execute_result"
    }
   ],
   "source": [
    "d.string"
   ]
  },
  {
   "cell_type": "code",
   "execution_count": 52,
   "id": "closing-circular",
   "metadata": {
    "tags": []
   },
   "outputs": [],
   "source": [
    "d.string = \"hola\""
   ]
  },
  {
   "cell_type": "code",
   "execution_count": 53,
   "id": "indian-mandate",
   "metadata": {
    "tags": []
   },
   "outputs": [
    {
     "data": {
      "text/plain": [
       "'hola'"
      ]
     },
     "execution_count": 53,
     "metadata": {},
     "output_type": "execute_result"
    }
   ],
   "source": [
    "d.string"
   ]
  },
  {
   "cell_type": "code",
   "execution_count": 54,
   "id": "frequent-tokyo",
   "metadata": {
    "tags": []
   },
   "outputs": [
    {
     "data": {
      "text/plain": [
       "{'_my_string': 'hola'}"
      ]
     },
     "execution_count": 54,
     "metadata": {},
     "output_type": "execute_result"
    }
   ],
   "source": [
    "d.__dict__"
   ]
  },
  {
   "cell_type": "code",
   "execution_count": 55,
   "id": "87ed706d-49bf-4db8-b52a-2c839e8f7171",
   "metadata": {
    "tags": []
   },
   "outputs": [
    {
     "ename": "AssertionError",
     "evalue": "¡Dame una cadena, no un <class 'int'>!",
     "output_type": "error",
     "traceback": [
      "\u001b[0;31m---------------------------------------------------------------------------\u001b[0m",
      "\u001b[0;31mAssertionError\u001b[0m                            Traceback (most recent call last)",
      "Cell \u001b[0;32mIn[55], line 1\u001b[0m\n\u001b[0;32m----> 1\u001b[0m \u001b[43md\u001b[49m\u001b[38;5;241;43m.\u001b[39;49m\u001b[43mstring\u001b[49m \u001b[38;5;241m=\u001b[39m \u001b[38;5;241m5\u001b[39m\n",
      "Cell \u001b[0;32mIn[48], line 12\u001b[0m, in \u001b[0;36mD.string\u001b[0;34m(self, new_value)\u001b[0m\n\u001b[1;32m     10\u001b[0m \u001b[38;5;129m@string\u001b[39m\u001b[38;5;241m.\u001b[39msetter\n\u001b[1;32m     11\u001b[0m \u001b[38;5;28;01mdef\u001b[39;00m \u001b[38;5;21mstring\u001b[39m(\u001b[38;5;28mself\u001b[39m, new_value):\n\u001b[0;32m---> 12\u001b[0m     \u001b[38;5;28;01massert\u001b[39;00m \u001b[38;5;28misinstance\u001b[39m(new_value, \u001b[38;5;28mstr\u001b[39m), \u001b[38;5;124mf\u001b[39m\u001b[38;5;124m\"\u001b[39m\u001b[38;5;124m¡Dame una cadena, no un \u001b[39m\u001b[38;5;132;01m{\u001b[39;00m\u001b[38;5;28mtype\u001b[39m(new_value)\u001b[38;5;132;01m}\u001b[39;00m\u001b[38;5;124m!\u001b[39m\u001b[38;5;124m\"\u001b[39m\n\u001b[1;32m     13\u001b[0m     \u001b[38;5;28mself\u001b[39m\u001b[38;5;241m.\u001b[39m_my_string \u001b[38;5;241m=\u001b[39m new_value\n",
      "\u001b[0;31mAssertionError\u001b[0m: ¡Dame una cadena, no un <class 'int'>!"
     ]
    }
   ],
   "source": [
    "d.string = 5"
   ]
  },
  {
   "cell_type": "markdown",
   "id": "ff2fd7fe-ea1f-451d-9f56-7885fadd39d1",
   "metadata": {},
   "source": [
    "**Ejercicio**: Modifica el método *getter* de la clase `D` para que devuelva `string` en mayúsculas. Indicación: Revisa los métodos más comunes de las cadenas de caracteres en Python que puedes encontrar [aquí](https://docs.python.org/3.8/library/stdtypes.html#string-methods)."
   ]
  },
  {
   "cell_type": "code",
   "execution_count": 57,
   "id": "a5a3397c-1203-488f-b480-1112f07b6880",
   "metadata": {
    "tags": []
   },
   "outputs": [
    {
     "data": {
      "text/plain": [
       "'HOLA'"
      ]
     },
     "execution_count": 57,
     "metadata": {},
     "output_type": "execute_result"
    }
   ],
   "source": [
    "# Solución\n",
    "class D(object):\n",
    "    def __init__(self):\n",
    "        self._my_string = \"\"   # al comenzar por _, se indica que _my_string se considera un atributo privado\n",
    "    \n",
    "    @property\n",
    "    def string(self):\n",
    "        \"\"\" Una cadena enormemente importante. \"\"\"\n",
    "        return self._my_string.upper()\n",
    "    \n",
    "    @string.setter\n",
    "    def string(self, new_value):\n",
    "        assert isinstance(new_value, str), f\"¡Dame una cadena, no un {type(new_value)}!\"\n",
    "        self._my_string = new_value\n",
    "    \n",
    "d = D()\n",
    "d.string = \"hola\"\n",
    "d.string "
   ]
  },
  {
   "cell_type": "markdown",
   "id": "noted-underground",
   "metadata": {},
   "source": [
    "## Uso del subrayado en Python\n",
    "\n",
    "Curiosamente Python usa de diferentes formas el carácter ``_``, y es interesante conocerlas.\n",
    "\n",
    "* Usado solo, simboliza habitualmente una variable que no queremos usar, y la ponemos para ocupar un hueco. Ejemplo:\n",
    "\n",
    "```python\n",
    "a, _, b = [1, 2, 3]   # a=1 y b=3\n",
    "```\n",
    "* Si pones uno delante del nombre de un atributo o método de una clase, significa que es de uso interno (privado). Aunque en Python no puedes evitar que se vea dicho atributo, estás indicando que en un futuro puede que no esté, o que cambie su uso.\n",
    "\n",
    "    Además, si en un módulo defines una función cuyo nombre comienza por un subrayado, entonces esa función no se importará cuando se importe el módulo con la orden ``from modulo import *``, aunque sí lo hará si hacemos simplemente ``import modulo``.\n",
    "\n",
    "```python\n",
    "class Test:\n",
    "    def __init__(self):\n",
    "        self.name = \"datacamp\"\n",
    "        self._num = 7   # privado\n",
    "```\n",
    "\n",
    "* Un subrayado al final del nombre de una variable se suele utilizar cuando dicho nombre coincide con una palabra reservada de Python. Por ejemplo, si quieres definir una variable ``class`` no puedes, así que se suele definir ``class_`` en su lugar.\n",
    "\n",
    "* El nombre de un atributo o método de una clase puede comenzar por dos subrayados si queremos que no pueda ser sobreescrito por una clase heredada. Python tomará el nombre construirá una versión que contiene el nombre de la clase como prefijo. Veamos un ejemplo:\n"
   ]
  },
  {
   "cell_type": "code",
   "execution_count": 59,
   "id": "entertaining-mobility",
   "metadata": {
    "tags": []
   },
   "outputs": [
    {
     "name": "stdout",
     "output_type": "stream",
     "text": [
      "normal_name: hola\n"
     ]
    },
    {
     "data": {
      "text/plain": [
       "['_Test__mangled_name', '_Test__mangled_name_attribute', 'normal_name']"
      ]
     },
     "execution_count": 59,
     "metadata": {},
     "output_type": "execute_result"
    }
   ],
   "source": [
    "class Test:\n",
    "    def __mangled_name(self):\n",
    "        print(\"__mangled_name\")\n",
    "    def normal_name(self):\n",
    "        self.__mangled_name_attribute = \"hola\"\n",
    "        print(f\"normal_name: {self.__mangled_name_attribute}\")\n",
    "\n",
    "t = Test()\n",
    "t.normal_name()\n",
    "[attr for attr in dir(t) if \"name\" in attr]   # la función dir() devuelve todos los atributos y métodos de una clase"
   ]
  },
  {
   "cell_type": "markdown",
   "id": "consistent-buffer",
   "metadata": {},
   "source": [
    "Como se puede ver, se ha añadido el prefijo ``_Test`` tanto al método ``__mangled_name`` como al atributo de instancia `__mangled_name_attribute`. Si creamos una clase derivada a partir de la clase `Test` e intentamos cambiar el método `__mangled_name`, no perderemos el de la clase padre. Por supuesto, podemos usar el método dentro de la clase, pero si intentamos usarlo desde otro sitio, no tendrá el prefijo adecuado y no se encontrará."
   ]
  },
  {
   "cell_type": "code",
   "execution_count": 60,
   "id": "virgin-luxembourg",
   "metadata": {
    "tags": []
   },
   "outputs": [
    {
     "name": "stdout",
     "output_type": "stream",
     "text": [
      "normal_name: hola\n"
     ]
    }
   ],
   "source": [
    "t.normal_name()"
   ]
  },
  {
   "cell_type": "code",
   "execution_count": 61,
   "id": "minus-belfast",
   "metadata": {
    "tags": []
   },
   "outputs": [
    {
     "ename": "AttributeError",
     "evalue": "'Test' object has no attribute '__mangled_name'",
     "output_type": "error",
     "traceback": [
      "\u001b[0;31m---------------------------------------------------------------------------\u001b[0m",
      "\u001b[0;31mAttributeError\u001b[0m                            Traceback (most recent call last)",
      "Cell \u001b[0;32mIn[61], line 1\u001b[0m\n\u001b[0;32m----> 1\u001b[0m \u001b[43mt\u001b[49m\u001b[38;5;241;43m.\u001b[39;49m\u001b[43m__mangled_name\u001b[49m()   \u001b[38;5;66;03m# esto dará error porque no existe un método llamado así\u001b[39;00m\n",
      "\u001b[0;31mAttributeError\u001b[0m: 'Test' object has no attribute '__mangled_name'"
     ]
    }
   ],
   "source": [
    "t.__mangled_name()   # esto dará error porque no existe un método llamado así"
   ]
  },
  {
   "cell_type": "code",
   "execution_count": 62,
   "id": "prompt-fossil",
   "metadata": {
    "tags": []
   },
   "outputs": [
    {
     "name": "stdout",
     "output_type": "stream",
     "text": [
      "__mangled_name\n"
     ]
    }
   ],
   "source": [
    "t._Test__mangled_name()   # recordemos que no hay nada privado en Python"
   ]
  },
  {
   "cell_type": "markdown",
   "id": "3688167b-706c-481b-9661-30ed9ac016bd",
   "metadata": {},
   "source": [
    "### Métodos mágicos o *dunder methods*"
   ]
  },
  {
   "cell_type": "markdown",
   "id": "superb-dictionary",
   "metadata": {},
   "source": [
    "Hemos dejado para el final una utilización del subrayado que ya hemos comprobado con anterioridad: el uso de doble subrayado delante y detrás de un nombre. Esta notación se usa para crear lo que en Python se denominan ***magic methods*** o ***dunder methods*** (contracción de *double underscore*). No están pensados para que los llamemos directamente nosotros mismos, sino para que los use internamente Python para ciertas acciones. La función ``dir()`` nos proporcionará todos los métodos y atributos de una clase, incluyendo los métodos mágicos. Veamos un ejemplo:"
   ]
  },
  {
   "cell_type": "code",
   "execution_count": 64,
   "id": "alternate-carter",
   "metadata": {
    "tags": []
   },
   "outputs": [
    {
     "data": {
      "text/plain": [
       "['__add__',\n",
       " '__class__',\n",
       " '__contains__',\n",
       " '__delattr__',\n",
       " '__delitem__',\n",
       " '__dir__',\n",
       " '__doc__',\n",
       " '__eq__',\n",
       " '__format__',\n",
       " '__ge__',\n",
       " '__getattribute__',\n",
       " '__getitem__',\n",
       " '__gt__',\n",
       " '__hash__',\n",
       " '__iadd__',\n",
       " '__imul__',\n",
       " '__init__',\n",
       " '__init_subclass__',\n",
       " '__iter__',\n",
       " '__le__',\n",
       " '__len__',\n",
       " '__lt__',\n",
       " '__mul__',\n",
       " '__ne__',\n",
       " '__new__',\n",
       " '__reduce__',\n",
       " '__reduce_ex__',\n",
       " '__repr__',\n",
       " '__reversed__',\n",
       " '__rmul__',\n",
       " '__setattr__',\n",
       " '__setitem__',\n",
       " '__sizeof__',\n",
       " '__str__',\n",
       " '__subclasshook__',\n",
       " 'append',\n",
       " 'clear',\n",
       " 'copy',\n",
       " 'count',\n",
       " 'extend',\n",
       " 'index',\n",
       " 'insert',\n",
       " 'pop',\n",
       " 'remove',\n",
       " 'reverse',\n",
       " 'sort']"
      ]
     },
     "execution_count": 64,
     "metadata": {},
     "output_type": "execute_result"
    }
   ],
   "source": [
    "dir(list)"
   ]
  },
  {
   "cell_type": "markdown",
   "id": "2e08b4bd-7e45-4883-8a04-47f8dad9249e",
   "metadata": {
    "tags": []
   },
   "source": [
    "Así, por ejemplo, la implementación del método ``__add__`` define qué sucede cuando dos listas se suman."
   ]
  },
  {
   "cell_type": "code",
   "execution_count": 65,
   "id": "union-georgia",
   "metadata": {
    "tags": []
   },
   "outputs": [
    {
     "data": {
      "text/plain": [
       "[1, 2, 3, 4, 5, 6]"
      ]
     },
     "execution_count": 65,
     "metadata": {},
     "output_type": "execute_result"
    }
   ],
   "source": [
    "L1 = [1,2,3]\n",
    "L1 + [4,5,6]"
   ]
  },
  {
   "cell_type": "code",
   "execution_count": 66,
   "id": "above-inquiry",
   "metadata": {
    "tags": []
   },
   "outputs": [
    {
     "data": {
      "text/plain": [
       "[1, 2, 3, 4, 5, 6]"
      ]
     },
     "execution_count": 66,
     "metadata": {},
     "output_type": "execute_result"
    }
   ],
   "source": [
    "L1.__add__([4,5,6])   # exactamente el mismo comportamiento"
   ]
  },
  {
   "cell_type": "markdown",
   "id": "fdcbdd0b",
   "metadata": {},
   "source": [
    "Algunos de los métodos mágicos nos sirven para implementar el comportamiento de ciertos operadores cuando se aplican a los objetos de una clase. Por ejemplo, véase cómo se definen e invocan los métodos mágicos *__add__*, *__str__* y *__repr__* en la clase M:"
   ]
  },
  {
   "cell_type": "code",
   "execution_count": 67,
   "id": "41375fd6",
   "metadata": {
    "tags": []
   },
   "outputs": [],
   "source": [
    "class M(object):\n",
    "    def __init__(self, num):\n",
    "        self.num = num\n",
    "    \n",
    "    def __add__(self, other):\n",
    "        print(\"Ejecutando __add__...\")\n",
    "        return M(self.num + other.num)   # este método mágico está asociado al operador +\n",
    "    \n",
    "    def __str__(self):\n",
    "        print(\"Ejecutando __str__...\")\n",
    "        return str(self.num)   # este método mágico nos devuelve una representación del objeto como una cadena\n",
    "    \n",
    "    def __repr__(self):\n",
    "        print(\"Ejecutando __repr__...\")\n",
    "        return f\"{__class__.__name__}({self.num})\"   # este método mágico nos devuelve el objeto en un formato evaluable por Python"
   ]
  },
  {
   "cell_type": "code",
   "execution_count": 85,
   "id": "081208c8",
   "metadata": {
    "tags": []
   },
   "outputs": [
    {
     "name": "stdout",
     "output_type": "stream",
     "text": [
      "Ejecutando __add__...\n",
      "Ejecutando __str__...\n",
      "11\n",
      "Ejecutando __repr__...\n"
     ]
    },
    {
     "data": {
      "text/plain": [
       "M(5)"
      ]
     },
     "execution_count": 85,
     "metadata": {},
     "output_type": "execute_result"
    }
   ],
   "source": [
    "m1 = M(5)\n",
    "m2 = M(6)\n",
    "print(m1 + m2)\n",
    "m1"
   ]
  },
  {
   "cell_type": "markdown",
   "id": "desirable-pound",
   "metadata": {},
   "source": [
    "Estos métodos mágicos son la base del uso del *duck typing*. Por ejemplo, para que podamos utilizar nuestra clase en cualquier función que esté esperando un objeto iterable (una lista, una tupla, un conjunto, un diccionario, etc.) solamente tendremos que proporcionarle un método mágico ``__getitem__`` y otro ``__len__``. A partir de ese momento ``for x in miobjeto:`` funcionará sin problemas. Si tiene los métodos de un iterador, un objeto se podrá usar en cualquier función donde se necesite un objeto iterable. \n",
    "\n",
    "De la misma forma, si queremos que nuestro objeto pueda ser mostrado por la orden ``print(objeto)``, solamente necesitaremos implementar el método mágico ``__str__`` que devolverá una cadena con la representación del objeto. Curiosamente, esta representación no es la misma que si evaluamos un objeto directamente en Python y nos muestra su valor. En ese caso no se usará ``__str__`` sino ``__expr__``, que lo que devuelve es una cadena que consiste en la representación del objeto tal y como lo definiríamos en nuestro código, de manera que si lo copiamos y pegamos en un código Python, sería ejecutable. Esto último se ve fácilmente con un ejemplo."
   ]
  },
  {
   "cell_type": "code",
   "execution_count": 69,
   "id": "geological-vegetation",
   "metadata": {
    "tags": []
   },
   "outputs": [],
   "source": [
    "cad = 'cadena de prueba'"
   ]
  },
  {
   "cell_type": "code",
   "execution_count": 70,
   "id": "molecular-longitude",
   "metadata": {
    "tags": []
   },
   "outputs": [
    {
     "data": {
      "text/plain": [
       "'cadena de prueba'"
      ]
     },
     "execution_count": 70,
     "metadata": {},
     "output_type": "execute_result"
    }
   ],
   "source": [
    "cad   # mostrará la cadena con comillas para que podamos usarla en nuestro código directamente"
   ]
  },
  {
   "cell_type": "code",
   "execution_count": 71,
   "id": "wound-optimization",
   "metadata": {
    "tags": []
   },
   "outputs": [
    {
     "name": "stdout",
     "output_type": "stream",
     "text": [
      "cadena de prueba\n"
     ]
    }
   ],
   "source": [
    "print(cad)   # mostrará la cadena sin comillas porque es lo que esperamos que imprima"
   ]
  },
  {
   "cell_type": "markdown",
   "id": "494d55b2-4621-46c0-ad97-695e6a98f37f",
   "metadata": {},
   "source": [
    "Para terminar, veamos cómo definir una clase sobre cuyos objetos se puede iterar:"
   ]
  },
  {
   "cell_type": "code",
   "execution_count": 86,
   "id": "c89d0f06-cbf1-4644-9f8b-2f6af51c70c7",
   "metadata": {
    "tags": []
   },
   "outputs": [],
   "source": [
    "class MiIterable():\n",
    "    def __init__(self, lista):\n",
    "        self._elementos = lista\n",
    "\n",
    "    def __getitem__(self, idx):\n",
    "        return self._elementos[idx]\n",
    "\n",
    "    def __len__(self):\n",
    "        return len(self._elementos)\n",
    "\n",
    "    def __repr__(self):\n",
    "        return f\"{__class__.__name__}({self._elementos})\"\n",
    "\n",
    "    def __str__(self):\n",
    "        return f\"[{', '.join(str(e) for e in self._elementos)}]\""
   ]
  },
  {
   "cell_type": "code",
   "execution_count": 87,
   "id": "248ccf93-5b8d-4339-88bb-12539793b8e2",
   "metadata": {
    "tags": []
   },
   "outputs": [],
   "source": [
    "mi = MiIterable([1, 2, 3])"
   ]
  },
  {
   "cell_type": "code",
   "execution_count": 88,
   "id": "e9a07356-0d8a-420c-b0a9-8e3f739f17c9",
   "metadata": {
    "tags": []
   },
   "outputs": [
    {
     "name": "stdout",
     "output_type": "stream",
     "text": [
      "1\n",
      "2\n",
      "3\n",
      "3\n"
     ]
    }
   ],
   "source": [
    "for e in mi:\n",
    "    print(e)\n",
    "print(len(mi))"
   ]
  },
  {
   "cell_type": "code",
   "execution_count": 89,
   "id": "bee95004-7078-4840-a0a1-50f21f7b4833",
   "metadata": {
    "tags": []
   },
   "outputs": [
    {
     "data": {
      "text/plain": [
       "MiIterable([1, 2, 3])"
      ]
     },
     "execution_count": 89,
     "metadata": {},
     "output_type": "execute_result"
    }
   ],
   "source": [
    "mi   # muestra la representación de mi que podemos usar en nuestro código directamente"
   ]
  },
  {
   "cell_type": "code",
   "execution_count": 90,
   "id": "7d8ba2ad-442a-4784-b6d5-ae30cfb7691e",
   "metadata": {
    "tags": []
   },
   "outputs": [
    {
     "name": "stdout",
     "output_type": "stream",
     "text": [
      "[1, 2, 3]\n"
     ]
    }
   ],
   "source": [
    "print(mi)   # muestra la representación de mi como una cadena de caracteres"
   ]
  },
  {
   "cell_type": "markdown",
   "id": "c506661c",
   "metadata": {},
   "source": [
    "La clase `MiIterable` es un ejemplo de *duck typing*: *If it walks like a duck and it quacks like a duck, then it must be a duck*. Esto quiere decir que el tipo de los objetos no es tan relevante como lo que pueden hacer. Por ejemplo, a la función `len()` no le importa el tipo del objeto que se le pase, siempre y cuando tenga el método `__len__()` implementado."
   ]
  },
  {
   "cell_type": "code",
   "execution_count": 91,
   "id": "a451b32d",
   "metadata": {},
   "outputs": [
    {
     "name": "stdout",
     "output_type": "stream",
     "text": [
      "3\n",
      "3\n"
     ]
    }
   ],
   "source": [
    "print(len(mi))\n",
    "print(len([1, 2, 3]))"
   ]
  },
  {
   "cell_type": "markdown",
   "id": "7c81f6ee-0e0b-4374-a567-dc9f73ebb8ff",
   "metadata": {
    "tags": []
   },
   "source": [
    "**Ejercicio**: Extiende la clase `MiIterable` para que implemente el operador '+' (concatenación)."
   ]
  },
  {
   "cell_type": "code",
   "execution_count": 99,
   "id": "a4a7e173-8b70-409c-acc4-2cc0696aba8d",
   "metadata": {
    "tags": []
   },
   "outputs": [
    {
     "name": "stdout",
     "output_type": "stream",
     "text": [
      "[1, 2, 3, 4, 5, 6]\n"
     ]
    }
   ],
   "source": [
    "# Solución\n",
    "class MiIterable():\n",
    "    def __init__(self, lista):\n",
    "        self._elementos = lista\n",
    "\n",
    "    def __getitem__(self, idx):\n",
    "        return self._elementos[idx]\n",
    "\n",
    "    def __len__(self):\n",
    "        return len(self._elementos)\n",
    "\n",
    "    def __repr__(self):\n",
    "        return f\"{__class__.__name__}({self._elementos})\"\n",
    "\n",
    "    def __str__(self):\n",
    "        return f\"[{', '.join(str(e) for e in self._elementos)}]\"\n",
    "    def __add__(self, other):\n",
    "        return MiIterable(self._elementos + other._elementos)\n",
    "\n",
    "mi1 = MiIterable([1, 2, 3])\n",
    "mi2 = MiIterable([4, 5, 6])\n",
    "print(mi1 + mi2)"
   ]
  },
  {
   "cell_type": "markdown",
   "id": "8a10f539",
   "metadata": {},
   "source": [
    "## Gestores de contexto: *with*"
   ]
  },
  {
   "cell_type": "markdown",
   "id": "40d42ca3",
   "metadata": {},
   "source": [
    "La sentencia `with` se utiliza en Python para asegurar que la ejecución de un bloque de código siempre viene inmediatamente precedida y seguida de la llamada a determinadas funciones. En otras palabras, `with` permite ejecutar un código en un determinado *contexto*."
   ]
  },
  {
   "cell_type": "markdown",
   "id": "c11b0ae5",
   "metadata": {},
   "source": [
    "Cualquier clase que implemente el protocolo *context manager* (es decir, los *dunder methods* `__enter__` y `__exit__` se convierte un gestor de contexto:"
   ]
  },
  {
   "cell_type": "code",
   "execution_count": 93,
   "id": "b29d9cc5",
   "metadata": {
    "tags": []
   },
   "outputs": [],
   "source": [
    "class Saludo:\n",
    "    def __init__(self, name):\n",
    "        self.name = name\n",
    "\n",
    "    def __enter__(self):\n",
    "        print(f\"Entrando en el contexto {self.name}\")\n",
    "        return self\n",
    "\n",
    "    def __exit__(self, exc_type, exc_value, exc_tb):\n",
    "        print(f\"Saliendo del contexto {self.name}\")"
   ]
  },
  {
   "cell_type": "markdown",
   "id": "3c0e97c9",
   "metadata": {},
   "source": [
    "En el siguiente ejemplo, `Saludo(\"MiContexto\")` es una expresión que retorna un objeto gestor de contexto. Opcionalmente, dicho objeto puede ligarse a una variable usando `as`. "
   ]
  },
  {
   "cell_type": "code",
   "execution_count": 94,
   "id": "8eee87f7",
   "metadata": {
    "tags": []
   },
   "outputs": [
    {
     "name": "stdout",
     "output_type": "stream",
     "text": [
      "Entrando en el contexto MiContexto\n",
      "Dentro del contexto MiContexto\n",
      "Saliendo del contexto MiContexto\n"
     ]
    }
   ],
   "source": [
    "with Saludo(\"MiContexto\") as ctx:\n",
    "    print(\"Dentro del contexto \" + ctx.name)"
   ]
  },
  {
   "cell_type": "markdown",
   "id": "295e86f8",
   "metadata": {},
   "source": [
    "El uso más común de los gestores de contexto es probablemente la gestión de diferentes recursos tales como ficheros, cerrojos o conexiones a bases de datos. Veámoslo con un ejemplo. Imaginemos que tenemos un fichero de texto que contiene un número y queremos escribir un programa que opere sobre el contenido de dicho fichero:"
   ]
  },
  {
   "cell_type": "code",
   "execution_count": 95,
   "id": "da697ce8",
   "metadata": {
    "tags": []
   },
   "outputs": [
    {
     "name": "stdout",
     "output_type": "stream",
     "text": [
      "100\n"
     ]
    }
   ],
   "source": [
    "!echo \"100\" > data.txt\n",
    "\n",
    "f = open('data.txt')\n",
    "data = f.readlines()\n",
    "print(int(data[0]))\n",
    "\n",
    "f.close()"
   ]
  },
  {
   "cell_type": "markdown",
   "id": "e3eb8d00",
   "metadata": {},
   "source": [
    "Sin embargo, en el caso de que el fichero contenga datos que no puedan ser convertidos a entero, se lanzaría una excepción `ValueError: invalid literal for int() .... ` y el fichero quedaría abierto, lo cual podría provocar inconsistencias, pérdida de datos, etc."
   ]
  },
  {
   "cell_type": "code",
   "execution_count": 96,
   "id": "548284ad",
   "metadata": {
    "tags": []
   },
   "outputs": [
    {
     "data": {
      "text/plain": [
       "True"
      ]
     },
     "execution_count": 96,
     "metadata": {},
     "output_type": "execute_result"
    }
   ],
   "source": [
    "f.closed   # prueba a cambiar el echo anterior por un valor no numérico y re-ejecutar esta celda"
   ]
  },
  {
   "cell_type": "markdown",
   "id": "5596ef1d",
   "metadata": {},
   "source": [
    "Para evitar esta situación, se podría haber usado la sentencia `try...except...finally`"
   ]
  },
  {
   "cell_type": "code",
   "execution_count": 97,
   "id": "e01cbd4b",
   "metadata": {
    "tags": []
   },
   "outputs": [
    {
     "name": "stdout",
     "output_type": "stream",
     "text": [
      "100\n"
     ]
    }
   ],
   "source": [
    "try:\n",
    "    f = open('data.txt')\n",
    "    data = f.readlines()\n",
    "    print(int(data[0]))\n",
    "except ValueError as error:\n",
    "    print(error)\n",
    "finally:\n",
    "    f.close()"
   ]
  },
  {
   "cell_type": "markdown",
   "id": "e60a5a8b",
   "metadata": {},
   "source": [
    "Puesto que el código del bloque `finally` siempre se ejecuta, el fichero se cerrará adecuadamente en todos los casos. Aunque esta solución funciona adecuadamente, el resultado es bastante verboso. Vemos claramente cómo la sentencia `with` proporciona una forma más *pythónica* de liberar un recurso automáticamente tras terminar de procesarlo:"
   ]
  },
  {
   "cell_type": "code",
   "execution_count": 98,
   "id": "d94449ec",
   "metadata": {
    "tags": []
   },
   "outputs": [
    {
     "name": "stdout",
     "output_type": "stream",
     "text": [
      "100\n"
     ]
    }
   ],
   "source": [
    "with open('data.txt') as f:\n",
    "    data = f.readlines()\n",
    "    print(int(data[0]))"
   ]
  },
  {
   "cell_type": "markdown",
   "id": "dfdf18e8-58ad-4d6b-9824-7053353a0bcf",
   "metadata": {},
   "source": [
    "## Referencias"
   ]
  },
  {
   "cell_type": "markdown",
   "id": "d19e117f-d1a1-49c6-a3c3-5408f9fae748",
   "metadata": {
    "tags": []
   },
   "source": [
    "* [Python Doc · Classes](https://docs.python.org/3.8/tutorial/classes.html)\n",
    "* [Real Python · Object-Oriented Programming (OOP) in Python 3](https://realpython.com/python3-object-oriented-programming/)\n",
    "* [Real Python · Operator and Function Overloading in Custom Python Classes](https://realpython.com/operator-function-overloading/)\n",
    "* [Real Python · Primer on Python Decorators](https://realpython.com/primer-on-python-decorators/#first-class-objects)\n",
    "* [Real Python · Understanding the Python Mock Object Library](https://realpython.com/python-mock-library/)\n",
    "* [Real Python · Python's property(): Add Managed Attributes to Your Classes](https://realpython.com/python-property/)\n",
    "* [Real Python · Context Managers and Python's with Statement](https://realpython.com/python-with-statement/)\n",
    "* [Real Python · When Should You Use .__repr__() vs .__str__() in Python?](https://realpython.com/python-repr-vs-str/)"
   ]
  }
 ],
 "metadata": {
  "kernelspec": {
   "display_name": "Python 3 (ipykernel)",
   "language": "python",
   "name": "python3"
  },
  "language_info": {
   "codemirror_mode": {
    "name": "ipython",
    "version": 3
   },
   "file_extension": ".py",
   "mimetype": "text/x-python",
   "name": "python",
   "nbconvert_exporter": "python",
   "pygments_lexer": "ipython3",
   "version": "3.8.18"
  },
  "toc": {
   "base_numbering": 1,
   "nav_menu": {},
   "number_sections": true,
   "sideBar": true,
   "skip_h1_title": false,
   "title_cell": "Tabla de contenidos",
   "title_sidebar": "Contents",
   "toc_cell": true,
   "toc_position": {
    "height": "calc(100% - 180px)",
    "left": "10px",
    "top": "150px",
    "width": "291.85px"
   },
   "toc_section_display": true,
   "toc_window_display": true
  },
  "toc-autonumbering": true
 },
 "nbformat": 4,
 "nbformat_minor": 5
}
