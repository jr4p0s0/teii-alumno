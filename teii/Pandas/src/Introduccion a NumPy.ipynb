{
 "cells": [
  {
   "cell_type": "markdown",
   "metadata": {},
   "source": [
    "# Introducción a NumPy"
   ]
  },
  {
   "cell_type": "markdown",
   "metadata": {},
   "source": [
    "### ¿Qué es NumPy?"
   ]
  },
  {
   "cell_type": "markdown",
   "metadata": {},
   "source": [
    "Este notebook describe las técnicas para cargar, almacenar y manipular eficazmente datos en memoria en Python.\n",
    "Los datos pueden provenir de una amplia variedad de fuentes y tener formatos muy diferentes, incluyendo colecciones de documentos, colecciones de imágenes, colecciones de clips de sonido, colecciones de medidas numéricas, o casi cualquier otra cosa. A pesar de esta aparente heterogeneidad, todos estos formatos de datos pueden expresarse como matrices de números.\n",
    "\n",
    "Por ejemplo, las imágenes digitales pueden considerarse simplemente matrices bidimensionales de números que representan el brillo o color de los píxeles en cada posición. Los clips de sonido pueden considerarse matrices unidimensionales de intensidad en función del tiempo. El texto puede convertirse de varias maneras en representaciones numéricas, por ejemplo, dígitos binarios que cuantifican la frecuencia de ciertas palabras o pares de palabras.\n",
    "\n",
    "Sean cuales sean los datos, el primer paso para poder analizarlos será transformarlos en matrices de números. Por esta razón, el almacenamiento y la manipulación eficiente de matrices numéricas es absolutamente fundamental para en la *ciencia de datos*. A continuación veremos las herramientas especializadas que tiene Python para manejar dichos arrays numéricos: el paquete **NumPy**, y el paquete **pandas**.\n",
    "\n",
    "**NumPy** proporciona una implementación eficiente para almacenar y manipular arrays de datos densos. En cierto modo, los **arrays de NumPy** son como el tipo `list` de Python, pero los arrays de NumPy proporcionan un almacenamiento y unas operaciones mucho más eficientes a medida que aumenta el tamaño de los datos. Los arrays de NumPy forman el núcleo de casi todo el ecosistema de herramientas de ciencia de datos en Python. En general, NumPy proporciona estructuras de datos y rutinas básicas optimizadas para **manipular datos numéricos multidimensionales**. NumPy está implementado en gran medida en **código C pre-compilado**.  Su eficiencia en el procesamiento datos hace que NumPy sea utilizado internamente por muchas otras librerías de computación numérica de Python como `SciPy`, `matplotlib` o `pandas`."
   ]
  },
  {
   "cell_type": "code",
   "execution_count": 14,
   "metadata": {
    "tags": []
   },
   "outputs": [
    {
     "data": {
      "text/plain": [
       "'1.24.4'"
      ]
     },
     "execution_count": 14,
     "metadata": {},
     "output_type": "execute_result"
    }
   ],
   "source": [
    "import numpy\n",
    "numpy.__version__"
   ]
  },
  {
   "cell_type": "markdown",
   "metadata": {},
   "source": [
    "Lo habitual es simplificar el nombre del paquete a una abreviatura que ya se considera estándar."
   ]
  },
  {
   "cell_type": "code",
   "execution_count": 15,
   "metadata": {
    "tags": []
   },
   "outputs": [],
   "source": [
    "import numpy as np"
   ]
  },
  {
   "cell_type": "markdown",
   "metadata": {},
   "source": [
    "## Entendiendo los tipos de datos de Python"
   ]
  },
  {
   "cell_type": "markdown",
   "metadata": {},
   "source": [
    "### Un entero en Python es más que un entero\n",
    "\n",
    "La implementación estándar de Python está escrita en C.\n",
    "Esto significa que cada objeto de Python es simplemente una estructura de C que contiene no sólo su valor sino también otra información. Por ejemplo, cuando definimos un entero en Python, como `x = 10000`, `x` no es sólo un entero \"en bruto\", sino que en realidad es un puntero a una estructura en C que contiene varios campos. Revisando el código fuente de Python, encontramos que la definición del tipo entero (largo), una vez que las macros C se expanden, es la siguiente:\n",
    "\n",
    "```C\n",
    "struct _longobject {\n",
    "    long ob_refcnt;\n",
    "    PyTypeObject *ob_type;\n",
    "    size_t ob_size;\n",
    "    long ob_digit[1];\n",
    "};\n",
    "```\n",
    "\n",
    "Un único entero en Python contiene en realidad cuatro partes:\n",
    "\n",
    "- `ob_refcnt`, un *contador* de referencias que ayuda a Python a gestionar automáticamente la asignación y liberación de memoria\n",
    "- `ob_type`, que codifica el tipo de la variable\n",
    "- `ob_size`, que especifica el tamaño de `ob_digit`\n",
    "- `ob_digit`, que contiene el valor entero real que esperamos que represente la variable de Python.\n",
    "\n",
    "Esto significa que hay una cierta sobrecarga en el almacenamiento de un entero en Python en comparación con un entero en un lenguaje compilado como C, como se ilustra en la figura:"
   ]
  },
  {
   "cell_type": "markdown",
   "metadata": {},
   "source": [
    "![Integer Memory Layout](figures/cint_vs_pyint.png)"
   ]
  },
  {
   "cell_type": "markdown",
   "metadata": {},
   "source": [
    "Aquí `PyObject_HEAD` es la parte de la estructura que contiene todos los campos de la estructura mencionados anteriormente a excepción de `ob_digit`.\n",
    "\n",
    "Nótese la diferencia. Mientras que un entero en C es esencialmente una etiqueta para una posición en memoria cuyos bytes codifican un valor entero, un entero en Python es un puntero a una posición en memoria que contiene toda la información del objeto de Python, incluyendo los bytes que contienen el valor del entero. Esta información adicional en la estructura de enteros de Python es lo que permite escribir código en Python de forma tan flexible y dinámica. Sin embargo, toda esta información adicional en los tipos de Python tiene un coste, que se hace especialmente evidente en las estructuras que combinan muchos de estos objetos."
   ]
  },
  {
   "cell_type": "markdown",
   "metadata": {},
   "source": [
    "### Una lista de Python es más que una lista\n",
    "\n",
    "Consideremos ahora lo que sucede cuando usamos una estructura de datos de Python que contiene muchos objetos de Python. El contenedor multi-elemento mutable estándar en Python es la lista. Podemos crear una lista de enteros de la siguiente manera:"
   ]
  },
  {
   "cell_type": "code",
   "execution_count": 16,
   "metadata": {},
   "outputs": [
    {
     "data": {
      "text/plain": [
       "[0, 1, 2, 3, 4, 5, 6, 7, 8, 9]"
      ]
     },
     "execution_count": 16,
     "metadata": {},
     "output_type": "execute_result"
    }
   ],
   "source": [
    "l = list(range(10))\n",
    "l"
   ]
  },
  {
   "cell_type": "code",
   "execution_count": 17,
   "metadata": {},
   "outputs": [
    {
     "data": {
      "text/plain": [
       "int"
      ]
     },
     "execution_count": 17,
     "metadata": {},
     "output_type": "execute_result"
    }
   ],
   "source": [
    "type(l[0])"
   ]
  },
  {
   "cell_type": "markdown",
   "metadata": {},
   "source": [
    "Recordemos que, debido al tipado dinámico de Python, también podemos definir una lista de varios tipos diferentes."
   ]
  },
  {
   "cell_type": "code",
   "execution_count": 18,
   "metadata": {},
   "outputs": [
    {
     "data": {
      "text/plain": [
       "[bool, str, float, int]"
      ]
     },
     "execution_count": 18,
     "metadata": {},
     "output_type": "execute_result"
    }
   ],
   "source": [
    "l = [True, \"2\", 3.0, 4]\n",
    "[type(item) for item in l]"
   ]
  },
  {
   "cell_type": "markdown",
   "metadata": {},
   "source": [
    "Pero esta flexibilidad tiene un precio: para permitir estos tipos flexibles, cada elemento de la lista debe contener su propia información de tipo, número de referencias y otra información adicional, es decir, cada elemento es un objeto Python completo. En el caso de que todas las variables sean del mismo tipo es mucho más eficiente almacenar los datos en un array de dicho tipo fijo.\n",
    "La diferencia entre una lista de tipo dinámico y una matriz de tipo fijo (estilo NumPy) se ilustra en la figura:"
   ]
  },
  {
   "cell_type": "markdown",
   "metadata": {},
   "source": [
    "![Array Memory Layout](figures/array_vs_list.png)"
   ]
  },
  {
   "cell_type": "markdown",
   "metadata": {},
   "source": [
    "El array contiene esencialmente un único puntero a un bloque contiguo de datos. Por otro lado, la lista de Python contiene un puntero a un bloque de punteros, cada uno de los cuales apunta a su vez a un objeto completo de Python como el entero de Python que vimos antes. De nuevo, la ventaja de la lista es la flexibilidad. Como cada elemento de la lista es una estructura completa que contiene tanto datos como información de tipo, la lista puede llenarse con datos de cualquier tipo deseado.\n",
    "Las matrices de tipo fijo al estilo de NumPy carecen de esta flexibilidad, pero son mucho más eficientes para almacenar y manipular datos."
   ]
  },
  {
   "cell_type": "markdown",
   "metadata": {},
   "source": [
    "## Los arrays de NumPy\n",
    "En primer lugar, podemos utilizar ``np.array`` para crear arrays a partir de listas de Python:"
   ]
  },
  {
   "cell_type": "code",
   "execution_count": 19,
   "metadata": {},
   "outputs": [
    {
     "data": {
      "text/plain": [
       "array([1, 4, 2, 5, 3])"
      ]
     },
     "execution_count": 19,
     "metadata": {},
     "output_type": "execute_result"
    }
   ],
   "source": [
    "np.array([1, 4, 2, 5, 3])  # array de enteros"
   ]
  },
  {
   "cell_type": "code",
   "execution_count": 20,
   "metadata": {},
   "outputs": [
    {
     "data": {
      "text/plain": [
       "array(['a', 'b', 'c', 'd', 'e', 'f'], dtype='<U1')"
      ]
     },
     "execution_count": 20,
     "metadata": {},
     "output_type": "execute_result"
    }
   ],
   "source": [
    "np.array(['a', 'b', 'c', 'd', 'e', 'f'])"
   ]
  },
  {
   "cell_type": "markdown",
   "metadata": {},
   "source": [
    "Sin embargo, ahora no podemos mezclar tipos. Si lo hacemos, Numpy intentará usar un tipo suficientemente general como para incluir a todos los elementos. En este caso al poner un valor real, todo pasa a ser de tipo *float*."
   ]
  },
  {
   "cell_type": "code",
   "execution_count": 21,
   "metadata": {},
   "outputs": [
    {
     "data": {
      "text/plain": [
       "array([3.14, 4.  , 2.  , 3.  ])"
      ]
     },
     "execution_count": 21,
     "metadata": {},
     "output_type": "execute_result"
    }
   ],
   "source": [
    "np.array([3.14, 4, 2, 3])  # array de reales"
   ]
  },
  {
   "cell_type": "markdown",
   "metadata": {},
   "source": [
    "Los arrays de NumPy contienen **valores de un solo tipo** (enteros, reales o complejos de distinta precisión). Podemos indicar explícitamente el tipo del array con el argumento ``dtype``:"
   ]
  },
  {
   "cell_type": "code",
   "execution_count": 22,
   "metadata": {},
   "outputs": [
    {
     "data": {
      "text/plain": [
       "array([1., 2., 3., 4.], dtype=float32)"
      ]
     },
     "execution_count": 22,
     "metadata": {},
     "output_type": "execute_result"
    }
   ],
   "source": [
    "np.array([1, 2, 3, 4], dtype='float32')"
   ]
  },
  {
   "cell_type": "markdown",
   "metadata": {},
   "source": [
    "A diferencia de las listas de Python, los arrays de NumPy son de **tamaño fijo**, definido en el momento de su creación."
   ]
  },
  {
   "cell_type": "markdown",
   "metadata": {},
   "source": [
    "Además, los arrays de NumPy pueden ser explícitamente *multidimensionales*, al contrario que las listas (unidimensionales).\n",
    "\n",
    "He aquí una forma de inicializar un array multidimensional usando una lista de listas:"
   ]
  },
  {
   "cell_type": "code",
   "execution_count": 23,
   "metadata": {
    "tags": []
   },
   "outputs": [
    {
     "name": "stdout",
     "output_type": "stream",
     "text": [
      "[[2 3 4]\n",
      " [4 5 6]\n",
      " [6 7 8]]\n"
     ]
    }
   ],
   "source": [
    "# listas anidadas generan arrays multicimensionales\n",
    "x = np.array([[2, 3, 4], [4, 5, 6], [6, 7, 8]])\n",
    "print(x)"
   ]
  },
  {
   "cell_type": "markdown",
   "metadata": {},
   "source": [
    "Las listas se tratan como filas de la matriz bidimensional resultante."
   ]
  },
  {
   "cell_type": "code",
   "execution_count": 24,
   "metadata": {},
   "outputs": [
    {
     "name": "stdout",
     "output_type": "stream",
     "text": [
      "[2 3 4]\n",
      "[6 7 8]\n"
     ]
    }
   ],
   "source": [
    "print(x[0])  # primera fila\n",
    "print(x[-1])  # última fila"
   ]
  },
  {
   "cell_type": "markdown",
   "metadata": {},
   "source": [
    "También es posible acceder a la matriz bidimensional por columnas:"
   ]
  },
  {
   "cell_type": "code",
   "execution_count": 25,
   "metadata": {
    "tags": []
   },
   "outputs": [
    {
     "name": "stdout",
     "output_type": "stream",
     "text": [
      "[2 4 6]\n",
      "[4 6 8]\n"
     ]
    }
   ],
   "source": [
    "print(x[:, 0])  # primera columna\n",
    "print(x[:, -1])  # última columna"
   ]
  },
  {
   "cell_type": "markdown",
   "metadata": {},
   "source": [
    "Los intentos de acceder a un elementos que no existen generan una excepción IndexError:"
   ]
  },
  {
   "cell_type": "code",
   "execution_count": 26,
   "metadata": {},
   "outputs": [
    {
     "ename": "IndexError",
     "evalue": "index 4 is out of bounds for axis 1 with size 3",
     "output_type": "error",
     "traceback": [
      "\u001b[0;31m---------------------------------------------------------------------------\u001b[0m",
      "\u001b[0;31mIndexError\u001b[0m                                Traceback (most recent call last)",
      "Cell \u001b[0;32mIn[26], line 1\u001b[0m\n\u001b[0;32m----> 1\u001b[0m \u001b[43mx\u001b[49m\u001b[43m[\u001b[49m\u001b[38;5;241;43m0\u001b[39;49m\u001b[43m,\u001b[49m\u001b[43m \u001b[49m\u001b[38;5;241;43m4\u001b[39;49m\u001b[43m]\u001b[49m  \u001b[38;5;66;03m# Genera una excepción IndexError\u001b[39;00m\n",
      "\u001b[0;31mIndexError\u001b[0m: index 4 is out of bounds for axis 1 with size 3"
     ]
    }
   ],
   "source": [
    "x[0, 4]  # Genera una excepción IndexError"
   ]
  },
  {
   "cell_type": "markdown",
   "metadata": {},
   "source": [
    "Como ya hemos visto, en un array multidimensional se puede acceder a los elementos utilizando una tupla de índices separada por comas:"
   ]
  },
  {
   "cell_type": "code",
   "execution_count": 28,
   "metadata": {},
   "outputs": [
    {
     "name": "stdout",
     "output_type": "stream",
     "text": [
      "7\n"
     ]
    }
   ],
   "source": [
    "print(x[2, 1])"
   ]
  },
  {
   "cell_type": "markdown",
   "metadata": {},
   "source": [
    "Los valores pueden ser modificados con la misma notación:"
   ]
  },
  {
   "cell_type": "code",
   "execution_count": 29,
   "metadata": {},
   "outputs": [
    {
     "data": {
      "text/plain": [
       "array([[20,  3,  4],\n",
       "       [ 4,  5,  6],\n",
       "       [ 6,  7,  8]])"
      ]
     },
     "execution_count": 29,
     "metadata": {},
     "output_type": "execute_result"
    }
   ],
   "source": [
    "x[0, 0] = 20\n",
    "x"
   ]
  },
  {
   "cell_type": "markdown",
   "metadata": {},
   "source": [
    "Cada array tiene los atributos `ndim` (el número de dimensiones), `shape` (el tamaño de cada dimensión), `size` (el tamaño total del array) y `dtype` (el tipo de datos de los elementos):"
   ]
  },
  {
   "cell_type": "code",
   "execution_count": 45,
   "metadata": {},
   "outputs": [
    {
     "name": "stdout",
     "output_type": "stream",
     "text": [
      "ndim: 2\n",
      "shape: (3, 3)\n",
      "size: 9\n",
      "dtype: int64\n"
     ]
    }
   ],
   "source": [
    "print(f\"ndim: {x.ndim}\")\n",
    "print(f\"shape: {x.shape}\") # tupla con las dimensiones del array\n",
    "print(f\"size: {x.size}\")\n",
    "print(f\"dtype: {x.dtype}\")"
   ]
  },
  {
   "cell_type": "markdown",
   "metadata": {},
   "source": [
    "Otros atributos interesantes son `itemsize`, que indica el tamaño (en bytes) de cada elemento del array, y `nbytes`, que indica el tamaño total (en bytes) del array:"
   ]
  },
  {
   "cell_type": "code",
   "execution_count": 46,
   "metadata": {},
   "outputs": [
    {
     "name": "stdout",
     "output_type": "stream",
     "text": [
      "itemsize: 8 bytes\n",
      "nbytes: 72 bytes\n"
     ]
    }
   ],
   "source": [
    "print(f\"itemsize: {x.itemsize} bytes\")\n",
    "print(f\"nbytes: {x.nbytes} bytes\")"
   ]
  },
  {
   "cell_type": "markdown",
   "metadata": {},
   "source": [
    "En general, esperamos que ``nbytes`` sea igual a ``itemsize`` por ``size``."
   ]
  },
  {
   "cell_type": "markdown",
   "metadata": {},
   "source": [
    "Nótese que, a diferencia de las listas de Python, los arrays de NumPy tienen un tipo fijo. Esto significa, por ejemplo, que se intenta insertar un valor de punto flotante en un array de enteros, el valor se truncará."
   ]
  },
  {
   "cell_type": "code",
   "execution_count": 32,
   "metadata": {},
   "outputs": [
    {
     "data": {
      "text/plain": [
       "array([[3, 3, 4],\n",
       "       [4, 5, 6],\n",
       "       [6, 7, 8]])"
      ]
     },
     "execution_count": 32,
     "metadata": {},
     "output_type": "execute_result"
    }
   ],
   "source": [
    "x[0, 0] = 3.14159  # Este valor se truncará a 3\n",
    "x"
   ]
  },
  {
   "cell_type": "markdown",
   "metadata": {},
   "source": [
    "También podemos acceder a subarrays con la notación *slice* que conocemos de las listas Python(`:`). Para acceder a una parte de una matriz `x`:\n",
    "\n",
    "``` python\n",
    "x[start:stop:step]\n",
    "```"
   ]
  },
  {
   "cell_type": "code",
   "execution_count": 33,
   "metadata": {},
   "outputs": [
    {
     "data": {
      "text/plain": [
       "array([10, 11, 12, 13, 14, 15, 16, 17, 18, 19])"
      ]
     },
     "execution_count": 33,
     "metadata": {},
     "output_type": "execute_result"
    }
   ],
   "source": [
    "y = np.array([x for x in range(10,20)])\n",
    "y"
   ]
  },
  {
   "cell_type": "code",
   "execution_count": 34,
   "metadata": {},
   "outputs": [
    {
     "data": {
      "text/plain": [
       "array([10, 11])"
      ]
     },
     "execution_count": 34,
     "metadata": {},
     "output_type": "execute_result"
    }
   ],
   "source": [
    "y[:2]  # primeros 2 elementos"
   ]
  },
  {
   "cell_type": "code",
   "execution_count": 35,
   "metadata": {},
   "outputs": [
    {
     "data": {
      "text/plain": [
       "array([12, 13, 14, 15, 16, 17, 18, 19])"
      ]
     },
     "execution_count": 35,
     "metadata": {},
     "output_type": "execute_result"
    }
   ],
   "source": [
    "y[2:]  # elementos después del índice 2"
   ]
  },
  {
   "cell_type": "code",
   "execution_count": 36,
   "metadata": {},
   "outputs": [
    {
     "data": {
      "text/plain": [
       "array([12, 13, 14])"
      ]
     },
     "execution_count": 36,
     "metadata": {},
     "output_type": "execute_result"
    }
   ],
   "source": [
    "y[2:5]  # subarray entre índices 2 y 5"
   ]
  },
  {
   "cell_type": "markdown",
   "metadata": {},
   "source": [
    "**IMPORTANTE**: Los *slices* de arrays devuelven **vistas** de los datos del array, al contrario que en las listas de Python, donde los slices generan **copias**. Esto permite acceder y procesar fragmentos de arrays NumPy sin necesidad de copiar el array de datos original."
   ]
  },
  {
   "cell_type": "code",
   "execution_count": 37,
   "metadata": {},
   "outputs": [
    {
     "name": "stdout",
     "output_type": "stream",
     "text": [
      "[10 11  0 13 14 15 16 17 18 19]\n"
     ]
    }
   ],
   "source": [
    "y_sub = y[2:5]\n",
    "y_sub[0] = 0\n",
    "print(y)"
   ]
  },
  {
   "cell_type": "code",
   "execution_count": 38,
   "metadata": {
    "tags": []
   },
   "outputs": [
    {
     "name": "stdout",
     "output_type": "stream",
     "text": [
      "[10, 11, 12, 13, 14, 15, 16, 17, 18, 19]\n",
      "[10, 11, 12, 13, 14, 15, 16, 17, 18, 19]\n"
     ]
    }
   ],
   "source": [
    "l = [x for x in range(10,20)]\n",
    "print(l)\n",
    "l_sub = l[2:5]\n",
    "l_sub[0] = 0\n",
    "print(l)"
   ]
  },
  {
   "cell_type": "markdown",
   "metadata": {},
   "source": [
    "## Operaciones con arrays de Numpy: Universal Functions (UFuncs)"
   ]
  },
  {
   "cell_type": "markdown",
   "metadata": {},
   "source": [
    "NumPy es importante en el mundo de la ciencia de datos de Python porque proporciona una interfaz fácil y flexible para la computación optimizada con arrays de valores. La clave para hacer que la computación con arrays de NumPy sea rápida es usar operaciones *vectorizadas*, generalmente implementadas a través de las *funciones universales* de NumPy (*ufuncs*) que pueden usarse para hacer cálculos repetidos sobre elementos del array de una forma mucho más eficiente."
   ]
  },
  {
   "cell_type": "code",
   "execution_count": 39,
   "metadata": {},
   "outputs": [
    {
     "name": "stdout",
     "output_type": "stream",
     "text": [
      "[6 1 4 4 8]\n"
     ]
    },
    {
     "data": {
      "text/plain": [
       "array([0.16666667, 1.        , 0.25      , 0.25      , 0.125     ])"
      ]
     },
     "execution_count": 39,
     "metadata": {},
     "output_type": "execute_result"
    }
   ],
   "source": [
    "np.random.seed(0)\n",
    "\n",
    "def compute_reciprocals(values):\n",
    "    output = np.empty(len(values))\n",
    "    for i in range(len(values)):\n",
    "        output[i] = 1.0 / values[i]\n",
    "    return output\n",
    "        \n",
    "values = np.random.randint(1, 10, size=5)\n",
    "print(values)\n",
    "compute_reciprocals(values)"
   ]
  },
  {
   "cell_type": "markdown",
   "metadata": {},
   "source": [
    "Esta implementación probablemente resulte bastante natural para alguien que tenga, por ejemplo, conocimientos de C o Java. Pero si medimos el tiempo de ejecución de este código para una entrada grande, vemos que esta operación es muy lenta; sorprendentemente lenta. Vamos a comparar esto con la orden *mágica* `%timeit` del notebook, que nos permite saber lo que tarda en ejecutarse la orden que la sigue."
   ]
  },
  {
   "cell_type": "code",
   "execution_count": 48,
   "metadata": {},
   "outputs": [
    {
     "name": "stdout",
     "output_type": "stream",
     "text": [
      "1.37 s ± 356 ms per loop (mean ± std. dev. of 7 runs, 1 loop each)\n"
     ]
    }
   ],
   "source": [
    "big_array = np.random.randint(1, 100, size=1000000)\n",
    "%timeit compute_reciprocals(big_array)"
   ]
  },
  {
   "cell_type": "markdown",
   "metadata": {},
   "source": [
    "El tiempo empleado en el cálculo de 10 millones de operaciones puede variar dependiendo del entorno en que se ejecute; en el mejor de los casos, supera ampliamente el segundo de duración. Cuando incluso los teléfonos móviles tienen velocidades de procesamiento que se miden en Giga-FLOPS (miles de millones de operaciones por segundo), vemos que resulta absurdamente lento. El cuello de botella aquí no son las operaciones en sí, sino la comprobación dinámica de tipos y las indirecciones que Python debe hacer en cada ciclo del bucle. Cada vez que se calcula el recíproco, Python examina primero el tipo del objeto y hace una búsqueda dinámica de la función correcta a utilizar para ese tipo. Si estuviéramos trabajando en código compilado, esta especificación de tipo sería conocida antes de que el código se ejecute y el resultado podría ser calculado mucho más eficientemente. Todo eso sin olvidar que los arrays NumPy almacenan los elementos en memoria densamente empaquetados, por lo que consigue los beneficios en términos de rendimiento derivados del principio de localidad de referencia."
   ]
  },
  {
   "cell_type": "markdown",
   "metadata": {},
   "source": [
    "Para muchos tipos de operaciones, NumPy proporciona un interfaz a una versión de cada rutina ya compilada para cada tipo de datos para hacerla sumamente eficiente. Esto se conoce como una **operación *vectorizada***. Esto puede lograrse simplemente operando directamente con el array, sabiendo que esa operación se aplicará a cada elemento por separado.\n",
    "Este enfoque vectorizado está diseñado para llevar el bucle hasta la capa compilada que tiene por debajo NumPy, lo que lleva a una ejecución mucho más rápida."
   ]
  },
  {
   "cell_type": "markdown",
   "metadata": {},
   "source": [
    "**NOTA**: En el contexto de lenguajes de programación de alto nivel como Python, Matlab o R, el término **vectorizado** hace referencia al uso de código pre-compilado optimizado, escrito en un lenguaje de más bajo nivel (por ejemplo, C) con el fin de realizar operaciones matemáticas sobre una secuencia de datos, sustituyendo las iteraciones explícitas escritas en el código del lenguaje nativo (e.g., un bucle for en Python)."
   ]
  },
  {
   "cell_type": "markdown",
   "metadata": {},
   "source": [
    "Para ilustrar la diferencia, comparemos los resultados de las dos operaciones siguientes y su tiempo de ejecución:"
   ]
  },
  {
   "cell_type": "code",
   "execution_count": 49,
   "metadata": {},
   "outputs": [
    {
     "name": "stdout",
     "output_type": "stream",
     "text": [
      "[0.16666667 1.         0.25       0.25       0.125     ]\n",
      "[0.16666667 1.         0.25       0.25       0.125     ]\n"
     ]
    }
   ],
   "source": [
    "print(compute_reciprocals(values))\n",
    "print(1.0 / values) # true_divide ufunc in NumPy"
   ]
  },
  {
   "cell_type": "markdown",
   "metadata": {},
   "source": [
    "Si observamos el tiempo de ejecución de nuestro gran array, vemos que se completa órdenes de magnitud más rápido que el bucle de Python:"
   ]
  },
  {
   "cell_type": "code",
   "execution_count": 50,
   "metadata": {},
   "outputs": [
    {
     "name": "stdout",
     "output_type": "stream",
     "text": [
      "1.14 ms ± 15.5 µs per loop (mean ± std. dev. of 7 runs, 1,000 loops each)\n"
     ]
    }
   ],
   "source": [
    "%timeit (1.0 / big_array)"
   ]
  },
  {
   "cell_type": "markdown",
   "metadata": {},
   "source": [
    "Las operaciones *vectorizadas* en NumPy se implementan a través de *ufuncs*, cuyo propósito principal es ejecutar rápidamente operaciones repetidas sobre valores en arrays de NumPy.\n",
    "Las *ufuncs* son extremadamente flexibles. Antes vimos una operación entre un escalar y un array, pero también podemos operar entre dos arrays:"
   ]
  },
  {
   "cell_type": "code",
   "execution_count": 51,
   "metadata": {},
   "outputs": [
    {
     "name": "stdout",
     "output_type": "stream",
     "text": [
      "[0 1 2 3 4]\n",
      "[ 0  5 10 15 20]\n",
      "[1 2 3 4 5]\n",
      "[0.         0.5        0.66666667 0.75       0.8       ]\n"
     ]
    }
   ],
   "source": [
    "a = np.arange(5)\n",
    "print(a)\n",
    "print(a * 5)  # multiplica cada elemento por 5\n",
    "\n",
    "b = np.arange(1, 6)\n",
    "print(b)\n",
    "print(a/b)  # divide elemento a elemento los dos arrays"
   ]
  },
  {
   "cell_type": "markdown",
   "metadata": {},
   "source": [
    "## Referencias"
   ]
  },
  {
   "cell_type": "markdown",
   "metadata": {},
   "source": [
    "* [Numpy](https://numpy.org/)\n",
    "  * [Numpy · Quickstart](https://numpy.org/doc/stable/user/quickstart.html)\n",
    "  * [Numpy · Basics for Beginners](https://numpy.org/doc/stable/user/absolute_beginners.html)\n",
    "  * [Numpy · API Reference](https://numpy.org/doc/stable/reference/index.html)"
   ]
  }
 ],
 "metadata": {
  "anaconda-cloud": {},
  "kernelspec": {
   "display_name": "Python 3 (ipykernel)",
   "language": "python",
   "name": "python3"
  },
  "language_info": {
   "codemirror_mode": {
    "name": "ipython",
    "version": 3
   },
   "file_extension": ".py",
   "mimetype": "text/x-python",
   "name": "python",
   "nbconvert_exporter": "python",
   "pygments_lexer": "ipython3",
   "version": "3.8.18"
  },
  "toc": {
   "base_numbering": 1,
   "nav_menu": {},
   "number_sections": true,
   "sideBar": true,
   "skip_h1_title": false,
   "title_cell": "Tabla de contenidos",
   "title_sidebar": "Contents",
   "toc_cell": true,
   "toc_position": {},
   "toc_section_display": true,
   "toc_window_display": true
  },
  "toc-autonumbering": true
 },
 "nbformat": 4,
 "nbformat_minor": 4
}
